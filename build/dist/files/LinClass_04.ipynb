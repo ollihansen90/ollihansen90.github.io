{
 "cells": [
  {
   "cell_type": "markdown",
   "metadata": {
    "colab_type": "text",
    "id": "view-in-github"
   },
   "source": [
    "<a href=\"https://colab.research.google.com/github/ollihansen90/linclassifiers/blob/main/Futureskills/LinClass_04.ipynb\" target=\"_parent\"><img src=\"https://colab.research.google.com/assets/colab-badge.svg\" alt=\"Open In Colab\"/></a>"
   ]
  },
  {
   "cell_type": "markdown",
   "metadata": {
    "id": "IAPLIlIElSix"
   },
   "source": [
    "# Lineare Klassifizierer\n",
    "\n"
   ]
  },
  {
   "cell_type": "code",
   "execution_count": null,
   "metadata": {
    "id": "YfEmeKhj0WMy"
   },
   "outputs": [],
   "source": [
    "# Dieser Block entfällt im Jupyter-Hub, weil die Daten schon auf dem Server liegt\n",
    "!wget -nc -q https://raw.githubusercontent.com/ollihansen90/linclassifiers/main/Futureskills/utils/utils.py"
   ]
  },
  {
   "cell_type": "code",
   "execution_count": null,
   "metadata": {},
   "outputs": [],
   "source": [
    "import numpy as np\n",
    "import matplotlib.pyplot as plt\n",
    "import matplotlib.colors as mcolors\n",
    "\n",
    "from IPython.display import clear_output\n",
    "from utils import Koordinatensystem, Vektorfolge, Gerade"
   ]
  },
  {
   "cell_type": "markdown",
   "metadata": {
    "id": "h7rjtqzq1GEd"
   },
   "source": [
    "## Kapitel 4 - Gerade als Vielfaches eines Vektors\n",
    "In diesem Notebook geht es um Geraden die über Vektoren definiert werden.\n",
    "\n",
    "### Aufgabe 1: Ursprungsgeraden\n",
    "In der folgenden Aufgabe soll eine Ursprungsgerade abgelesen werden. Gegeben sind zwei Punkte `[2,3]` und `[-4,-6]`, durch die die Gerade verlaufen soll.\n",
    "\n",
    "Nach Ausführen des Codeblocks wird zunächst ein Koordinatensystem mit den beiden Punkten geplottet. In einem Textfeld darunter soll der Vektor angegeben werden, über den die Ursprungsgerade definiert wird, die durch die beiden Punkte verläuft.\n",
    "\n",
    "*Hinweis:* Es müssen lediglich die Koordinaten durch Komma getrennt angegeben werden! Der Punkt `[1.5,-2]` erfordert also die Eingabe `1.5,-2`."
   ]
  },
  {
   "cell_type": "code",
   "execution_count": null,
   "metadata": {
    "id": "QsyzTu_I0uc_"
   },
   "outputs": [],
   "source": [
    "def draw(richtung=np.array([-1,1]), first=False):\n",
    "    data = np.array([[2,3],[-4,-6]])\n",
    "    size = 11\n",
    "    config = {\"size\": size}\n",
    "    koordinatensystem = Koordinatensystem(config)\n",
    "    vec = Vektorfolge([np.zeros(2), richtung], list(mcolors.TABLEAU_COLORS.keys())[2:0:-1])\n",
    "    gerade = Gerade(np.zeros(2), richtung)\n",
    "\n",
    "    plt.figure(figsize=[7,7])\n",
    "    koordinatensystem.draw()\n",
    "    if not first:\n",
    "        gerade.draw()\n",
    "        vec.draw()\n",
    "    plt.plot(data[:,0], data[:,1], \"ro\", markersize=5)\n",
    "    plt.axis(\"equal\");plt.xlim([-size,size]);plt.ylim([-size,size]);plt.axis(\"off\")\n",
    "    plt.show()\n",
    "    if not first:\n",
    "        if gerade.on_gerade(data[0]) and gerade.on_gerade(data[1]):\n",
    "            print(f\"Sehr gut! Der Richtungsvektor [{richtung[0]},{richtung[1]}] ist korrekt!\")\n",
    "            return True\n",
    "        else:\n",
    "            print(f\"Das stimmt leider noch nicht... Der Richtungsvektor [{richtung[0]},{richtung[1]}] ist nicht richtig.\")\n",
    "            return False\n",
    "\n",
    "draw(first=True)\n",
    "\n",
    "done = False\n",
    "while not done:\n",
    "    print(\"Geben Sie einen Richtungsvektor ein. (Zum Beispiel 1,-1)\")\n",
    "    sleep(0.1)\n",
    "    test = input(\"Richtungsvektor: \")\n",
    "    print(test)\n",
    "    richtung = np.array([float(s) for s in test.split(\",\")])\n",
    "    print(richtung)\n",
    "\n",
    "    clear_output()\n",
    "    done = draw(richtung)\n"
   ]
  },
  {
   "cell_type": "markdown",
   "metadata": {
    "id": "Ms7VxFA79nA4"
   },
   "source": [
    "## Aufgabe 2: Allgemeine Geraden\n",
    "Im Gegensatz zu Ursprungsgeraden verlaufen allgemeine Geraden nicht unbedingt durch den Ursprung `[0,0]`. Allgemeine Geraden entstehen, indem Ursprungsgeraden in eine bestimmte Richtung verschoben werden. In der Mathematik nennt man diese Verschiebung auch *affine Transformation*.\n",
    "\n",
    "In dieser Aufgabe soll eine allgemeine Gerade abgelesen werden. Gegeben werden zwei Punkte `[-4,2]` und `[2,-6]`, durch die die Gerade verlaufen soll. Gesucht sind ein Aufpunkt, sowie ein Richtungsvektor, über die die Gerade definiert wird.\n",
    "\n",
    "Wie in Aufgabe 1 wird nach Ausführen des Codeblocks zunächst ein Koordinatensystem mit den beiden Punkten geplottet. In den Textfeldern darunter sollen nun Vektoren angegeben werden, über den die Gerade definiert wird, die durch die beiden Punkte verläuft."
   ]
  },
  {
   "cell_type": "code",
   "execution_count": null,
   "metadata": {
    "id": "nqdRYKaSBlkp"
   },
   "outputs": [],
   "source": [
    "def draw(aufpunkt=np.zeros(2), richtung=np.array([-1,1]), first=False):\n",
    "    data = np.array([[-4,2],[2,-6]])\n",
    "\n",
    "    size = 11\n",
    "    config = {\"size\": size}\n",
    "    koordinatensystem = Koordinatensystem(config)\n",
    "    vec = Vektorfolge([aufpunkt, richtung], list(mcolors.TABLEAU_COLORS.keys())[2:0:-1])\n",
    "    gerade = Gerade(aufpunkt, richtung)\n",
    "\n",
    "    plt.figure(figsize=[7,7])\n",
    "    koordinatensystem.draw()\n",
    "    if not first:\n",
    "        gerade.draw()\n",
    "        vec.draw()\n",
    "    plt.plot(data[:,0], data[:,1], \"ro\", markersize=5)\n",
    "    plt.axis(\"equal\");plt.xlim([-size,size]);plt.ylim([-size,size]);plt.axis(\"off\")\n",
    "    plt.show()\n",
    "    #print(data)\n",
    "    if not first:\n",
    "        if gerade.on_gerade(data[0]) and gerade.on_gerade(data[1]):\n",
    "            print(f\"Sehr gut!  Aufpunkt [{aufpunkt[0]},{aufpunkt[1]}] und  Richtungsvektor [{richtung[0]},{richtung[1]}] sind korrekt!\")\n",
    "            return True\n",
    "        else:\n",
    "            print(f\"Das stimmt leider noch nicht... Aufpunkt [{aufpunkt[0]},{aufpunkt[1]}] und Richtungsvektor [{richtung[0]},{richtung[1]}] sind nicht richtig.\")\n",
    "            return False\n",
    "\n",
    "draw(first=True)\n",
    "\n",
    "done = False\n",
    "while not done:\n",
    "    print(\"Geben Sie einen Aufpunkt ein. (Zum Beispiel 1,-1)\")\n",
    "    sleep(0.1)\n",
    "    test = input(\"Aufpunkt: \")\n",
    "    aufpunkt = np.array([float(s) for s in test.split(\",\")])\n",
    "    print(\"Geben Sie einen Richtungsvektor ein. (Zum Beispiel 1,-1)\")\n",
    "    sleep(0.1)\n",
    "    test = input(\"Richtungsvektor: \")\n",
    "    richtung = np.array([float(s) for s in test.split(\",\")])\n",
    "\n",
    "    clear_output()\n",
    "    done = draw(aufpunkt, richtung)\n"
   ]
  },
  {
   "cell_type": "markdown",
   "metadata": {
    "id": "UPgQ6hkGBmY6"
   },
   "source": [
    "# Test mit Widgets"
   ]
  },
  {
   "cell_type": "code",
   "execution_count": null,
   "metadata": {
    "colab": {
     "base_uri": "https://localhost:8080/",
     "height": 1000,
     "referenced_widgets": [
      "77f1d48687f24ab59b155e372cd6f4b4",
      "e52170684f6e4f38bd0e4ec0843db9c6",
      "b397607273db4961a8c8bcf41f7b3493",
      "e830b8347cbf463890b8af10c8339b6e",
      "0a5c89a522d047bea3ad66dba331b388",
      "570684992ad74258b26bf7d184fc58a4",
      "4491a9113a044b08ad33e0d0b6918096",
      "bba54ec4feeb416cb892b0af7679305b",
      "927421f3725547b18541a0e9f6c8c865",
      "57113c456e9c4e2f9861c84dcf82a36f",
      "c46660f3cc1a40118d153be26f5987d4",
      "35d49f9f347a490ba6b90457519fc257",
      "491d30977d2a4ac4bd0bf40a6cebb35f",
      "7aa2eb62a0ae4c2b888b97846b43215e",
      "0180757874d046aca96375545bfdc17b",
      "34ded79df35c45d09656adb630ec55df",
      "1c0cc282185f4736a85c509e660b5c64",
      "120ada1323a949a7849dc6e0ca4ff2bc",
      "e68a98b27d4340e09e11affd991c5f89"
     ]
    },
    "id": "RdepFyeNBbCY",
    "outputId": "969da96c-ff50-4c9c-b5bb-4168195741ac"
   },
   "outputs": [
    {
     "name": "stdout",
     "output_type": "stream",
     "text": [
      "['tab:green', 'tab:orange']\n"
     ]
    },
    {
     "data": {
      "image/png": "[encoded data removed]",
      "text/plain": [
       "<Figure size 700x700 with 1 Axes>"
      ]
     },
     "metadata": {},
     "output_type": "display_data"
    },
    {
     "name": "stdout",
     "output_type": "stream",
     "text": [
      "[[ 2  3]\n",
      " [-4 -6]]\n",
      "Das stimmt leider noch nicht... Der Richtungsvektor [1.0,1.0] ist nicht richtig.\n",
      "Geben Sie einen Richtungsvektor ein. (Zum Beispiel 1,-1)\n"
     ]
    },
    {
     "data": {
      "application/vnd.jupyter.widget-view+json": {
       "model_id": "1c0cc282185f4736a85c509e660b5c64",
       "version_major": 2,
       "version_minor": 0
      },
      "text/plain": [
       "Text(value='1,1', description='String:', placeholder='Type something')"
      ]
     },
     "metadata": {},
     "output_type": "display_data"
    },
    {
     "name": "stdout",
     "output_type": "stream",
     "text": [
      "['tab:green', 'tab:orange']\n"
     ]
    },
    {
     "ename": "KeyboardInterrupt",
     "evalue": "ignored",
     "output_type": "error",
     "traceback": [
      "\u001b[0;31m---------------------------------------------------------------------------\u001b[0m",
      "\u001b[0;31mKeyboardInterrupt\u001b[0m                         Traceback (most recent call last)",
      "\u001b[0;32m<ipython-input-89-84cc86833652>\u001b[0m in \u001b[0;36m<cell line: 32>\u001b[0;34m()\u001b[0m\n\u001b[1;32m     47\u001b[0m     );display(b)\n\u001b[1;32m     48\u001b[0m     b.on_click(click)\"\"\"\n\u001b[0;32m---> 49\u001b[0;31m     \u001b[0minteract\u001b[0m\u001b[0;34m(\u001b[0m\u001b[0mdraw\u001b[0m\u001b[0;34m(\u001b[0m\u001b[0mrichtung\u001b[0m\u001b[0;34m)\u001b[0m\u001b[0;34m)\u001b[0m\u001b[0;34m\u001b[0m\u001b[0;34m\u001b[0m\u001b[0m\n\u001b[0m\u001b[1;32m     50\u001b[0m     \u001b[0mclear_output\u001b[0m\u001b[0;34m(\u001b[0m\u001b[0;34m)\u001b[0m\u001b[0;34m\u001b[0m\u001b[0;34m\u001b[0m\u001b[0m\n\u001b[1;32m     51\u001b[0m     \u001b[0mdone\u001b[0m \u001b[0;34m=\u001b[0m \u001b[0mdraw\u001b[0m\u001b[0;34m(\u001b[0m\u001b[0mrichtung\u001b[0m\u001b[0;34m)\u001b[0m\u001b[0;34m\u001b[0m\u001b[0;34m\u001b[0m\u001b[0m\n",
      "\u001b[0;32m<ipython-input-89-84cc86833652>\u001b[0m in \u001b[0;36mdraw\u001b[0;34m(richtung, first)\u001b[0m\n\u001b[1;32m      9\u001b[0m \u001b[0;34m\u001b[0m\u001b[0m\n\u001b[1;32m     10\u001b[0m     \u001b[0mplt\u001b[0m\u001b[0;34m.\u001b[0m\u001b[0mfigure\u001b[0m\u001b[0;34m(\u001b[0m\u001b[0mfigsize\u001b[0m\u001b[0;34m=\u001b[0m\u001b[0;34m[\u001b[0m\u001b[0;36m7\u001b[0m\u001b[0;34m,\u001b[0m\u001b[0;36m7\u001b[0m\u001b[0;34m]\u001b[0m\u001b[0;34m)\u001b[0m\u001b[0;34m\u001b[0m\u001b[0;34m\u001b[0m\u001b[0m\n\u001b[0;32m---> 11\u001b[0;31m     \u001b[0mkoordinatensystem\u001b[0m\u001b[0;34m.\u001b[0m\u001b[0mdraw\u001b[0m\u001b[0;34m(\u001b[0m\u001b[0;34m)\u001b[0m\u001b[0;34m\u001b[0m\u001b[0;34m\u001b[0m\u001b[0m\n\u001b[0m\u001b[1;32m     12\u001b[0m     \u001b[0mgerade\u001b[0m\u001b[0;34m.\u001b[0m\u001b[0mdraw\u001b[0m\u001b[0;34m(\u001b[0m\u001b[0;34m)\u001b[0m\u001b[0;34m\u001b[0m\u001b[0;34m\u001b[0m\u001b[0m\n\u001b[1;32m     13\u001b[0m     \u001b[0mvec\u001b[0m\u001b[0;34m.\u001b[0m\u001b[0mdraw\u001b[0m\u001b[0;34m(\u001b[0m\u001b[0;34m)\u001b[0m\u001b[0;34m\u001b[0m\u001b[0;34m\u001b[0m\u001b[0m\n",
      "\u001b[0;32m<ipython-input-76-3d01c66daa24>\u001b[0m in \u001b[0;36mdraw\u001b[0;34m(self)\u001b[0m\n\u001b[1;32m     24\u001b[0m             \u001b[0mplt\u001b[0m\u001b[0;34m.\u001b[0m\u001b[0mplot\u001b[0m\u001b[0;34m(\u001b[0m\u001b[0;34m[\u001b[0m\u001b[0;34m-\u001b[0m\u001b[0mt\u001b[0m\u001b[0;34m,\u001b[0m\u001b[0;34m-\u001b[0m\u001b[0mt\u001b[0m\u001b[0;34m]\u001b[0m\u001b[0;34m,\u001b[0m \u001b[0;34m[\u001b[0m\u001b[0;34m-\u001b[0m\u001b[0msize\u001b[0m\u001b[0;34m,\u001b[0m\u001b[0msize\u001b[0m\u001b[0;34m]\u001b[0m\u001b[0;34m,\u001b[0m \u001b[0;34m\"k\"\u001b[0m\u001b[0;34m,\u001b[0m \u001b[0malpha\u001b[0m\u001b[0;34m=\u001b[0m\u001b[0mgrid_alpha\u001b[0m\u001b[0;34m)\u001b[0m\u001b[0;34m\u001b[0m\u001b[0;34m\u001b[0m\u001b[0m\n\u001b[1;32m     25\u001b[0m             \u001b[0mplt\u001b[0m\u001b[0;34m.\u001b[0m\u001b[0mplot\u001b[0m\u001b[0;34m(\u001b[0m\u001b[0;34m[\u001b[0m\u001b[0;34m-\u001b[0m\u001b[0msize\u001b[0m\u001b[0;34m,\u001b[0m\u001b[0msize\u001b[0m\u001b[0;34m]\u001b[0m\u001b[0;34m,\u001b[0m \u001b[0;34m[\u001b[0m\u001b[0mt\u001b[0m\u001b[0;34m,\u001b[0m\u001b[0mt\u001b[0m\u001b[0;34m]\u001b[0m\u001b[0;34m,\u001b[0m \u001b[0;34m\"k\"\u001b[0m\u001b[0;34m,\u001b[0m \u001b[0malpha\u001b[0m\u001b[0;34m=\u001b[0m\u001b[0mgrid_alpha\u001b[0m\u001b[0;34m)\u001b[0m\u001b[0;34m\u001b[0m\u001b[0;34m\u001b[0m\u001b[0m\n\u001b[0;32m---> 26\u001b[0;31m             \u001b[0mplt\u001b[0m\u001b[0;34m.\u001b[0m\u001b[0mplot\u001b[0m\u001b[0;34m(\u001b[0m\u001b[0;34m[\u001b[0m\u001b[0;34m-\u001b[0m\u001b[0msize\u001b[0m\u001b[0;34m,\u001b[0m\u001b[0msize\u001b[0m\u001b[0;34m]\u001b[0m\u001b[0;34m,\u001b[0m \u001b[0;34m[\u001b[0m\u001b[0;34m-\u001b[0m\u001b[0mt\u001b[0m\u001b[0;34m,\u001b[0m\u001b[0;34m-\u001b[0m\u001b[0mt\u001b[0m\u001b[0;34m]\u001b[0m\u001b[0;34m,\u001b[0m \u001b[0;34m\"k\"\u001b[0m\u001b[0;34m,\u001b[0m \u001b[0malpha\u001b[0m\u001b[0;34m=\u001b[0m\u001b[0mgrid_alpha\u001b[0m\u001b[0;34m)\u001b[0m\u001b[0;34m\u001b[0m\u001b[0;34m\u001b[0m\u001b[0m\n\u001b[0m\u001b[1;32m     27\u001b[0m             \u001b[0;32mif\u001b[0m \u001b[0mt\u001b[0m\u001b[0;34m%\u001b[0m\u001b[0;36m2\u001b[0m\u001b[0;34m==\u001b[0m\u001b[0;36m0\u001b[0m\u001b[0;34m:\u001b[0m\u001b[0;34m\u001b[0m\u001b[0;34m\u001b[0m\u001b[0m\n\u001b[1;32m     28\u001b[0m                 \u001b[0mplt\u001b[0m\u001b[0;34m.\u001b[0m\u001b[0mplot\u001b[0m\u001b[0;34m(\u001b[0m\u001b[0;34m[\u001b[0m\u001b[0mt\u001b[0m\u001b[0;34m,\u001b[0m\u001b[0mt\u001b[0m\u001b[0;34m]\u001b[0m\u001b[0;34m,\u001b[0m \u001b[0;34m[\u001b[0m\u001b[0;34m-\u001b[0m\u001b[0;36m0.1\u001b[0m\u001b[0;34m,\u001b[0m\u001b[0;36m0.1\u001b[0m\u001b[0;34m]\u001b[0m\u001b[0;34m,\u001b[0m \u001b[0;34m\"k\"\u001b[0m\u001b[0;34m)\u001b[0m\u001b[0;34m\u001b[0m\u001b[0;34m\u001b[0m\u001b[0m\n",
      "\u001b[0;32m/usr/local/lib/python3.10/dist-packages/matplotlib/pyplot.py\u001b[0m in \u001b[0;36mplot\u001b[0;34m(scalex, scaley, data, *args, **kwargs)\u001b[0m\n\u001b[1;32m   2810\u001b[0m \u001b[0;34m@\u001b[0m\u001b[0m_copy_docstring_and_deprecators\u001b[0m\u001b[0;34m(\u001b[0m\u001b[0mAxes\u001b[0m\u001b[0;34m.\u001b[0m\u001b[0mplot\u001b[0m\u001b[0;34m)\u001b[0m\u001b[0;34m\u001b[0m\u001b[0;34m\u001b[0m\u001b[0m\n\u001b[1;32m   2811\u001b[0m \u001b[0;32mdef\u001b[0m \u001b[0mplot\u001b[0m\u001b[0;34m(\u001b[0m\u001b[0;34m*\u001b[0m\u001b[0margs\u001b[0m\u001b[0;34m,\u001b[0m \u001b[0mscalex\u001b[0m\u001b[0;34m=\u001b[0m\u001b[0;32mTrue\u001b[0m\u001b[0;34m,\u001b[0m \u001b[0mscaley\u001b[0m\u001b[0;34m=\u001b[0m\u001b[0;32mTrue\u001b[0m\u001b[0;34m,\u001b[0m \u001b[0mdata\u001b[0m\u001b[0;34m=\u001b[0m\u001b[0;32mNone\u001b[0m\u001b[0;34m,\u001b[0m \u001b[0;34m**\u001b[0m\u001b[0mkwargs\u001b[0m\u001b[0;34m)\u001b[0m\u001b[0;34m:\u001b[0m\u001b[0;34m\u001b[0m\u001b[0;34m\u001b[0m\u001b[0m\n\u001b[0;32m-> 2812\u001b[0;31m     return gca().plot(\n\u001b[0m\u001b[1;32m   2813\u001b[0m         \u001b[0;34m*\u001b[0m\u001b[0margs\u001b[0m\u001b[0;34m,\u001b[0m \u001b[0mscalex\u001b[0m\u001b[0;34m=\u001b[0m\u001b[0mscalex\u001b[0m\u001b[0;34m,\u001b[0m \u001b[0mscaley\u001b[0m\u001b[0;34m=\u001b[0m\u001b[0mscaley\u001b[0m\u001b[0;34m,\u001b[0m\u001b[0;34m\u001b[0m\u001b[0;34m\u001b[0m\u001b[0m\n\u001b[1;32m   2814\u001b[0m         **({\"data\": data} if data is not None else {}), **kwargs)\n",
      "\u001b[0;32m/usr/local/lib/python3.10/dist-packages/matplotlib/axes/_axes.py\u001b[0m in \u001b[0;36mplot\u001b[0;34m(self, scalex, scaley, data, *args, **kwargs)\u001b[0m\n\u001b[1;32m   1686\u001b[0m         \"\"\"\n\u001b[1;32m   1687\u001b[0m         \u001b[0mkwargs\u001b[0m \u001b[0;34m=\u001b[0m \u001b[0mcbook\u001b[0m\u001b[0;34m.\u001b[0m\u001b[0mnormalize_kwargs\u001b[0m\u001b[0;34m(\u001b[0m\u001b[0mkwargs\u001b[0m\u001b[0;34m,\u001b[0m \u001b[0mmlines\u001b[0m\u001b[0;34m.\u001b[0m\u001b[0mLine2D\u001b[0m\u001b[0;34m)\u001b[0m\u001b[0;34m\u001b[0m\u001b[0;34m\u001b[0m\u001b[0m\n\u001b[0;32m-> 1688\u001b[0;31m         \u001b[0mlines\u001b[0m \u001b[0;34m=\u001b[0m \u001b[0;34m[\u001b[0m\u001b[0;34m*\u001b[0m\u001b[0mself\u001b[0m\u001b[0;34m.\u001b[0m\u001b[0m_get_lines\u001b[0m\u001b[0;34m(\u001b[0m\u001b[0;34m*\u001b[0m\u001b[0margs\u001b[0m\u001b[0;34m,\u001b[0m \u001b[0mdata\u001b[0m\u001b[0;34m=\u001b[0m\u001b[0mdata\u001b[0m\u001b[0;34m,\u001b[0m \u001b[0;34m**\u001b[0m\u001b[0mkwargs\u001b[0m\u001b[0;34m)\u001b[0m\u001b[0;34m]\u001b[0m\u001b[0;34m\u001b[0m\u001b[0;34m\u001b[0m\u001b[0m\n\u001b[0m\u001b[1;32m   1689\u001b[0m         \u001b[0;32mfor\u001b[0m \u001b[0mline\u001b[0m \u001b[0;32min\u001b[0m \u001b[0mlines\u001b[0m\u001b[0;34m:\u001b[0m\u001b[0;34m\u001b[0m\u001b[0;34m\u001b[0m\u001b[0m\n\u001b[1;32m   1690\u001b[0m             \u001b[0mself\u001b[0m\u001b[0;34m.\u001b[0m\u001b[0madd_line\u001b[0m\u001b[0;34m(\u001b[0m\u001b[0mline\u001b[0m\u001b[0;34m)\u001b[0m\u001b[0;34m\u001b[0m\u001b[0;34m\u001b[0m\u001b[0m\n",
      "\u001b[0;32m/usr/local/lib/python3.10/dist-packages/matplotlib/axes/_base.py\u001b[0m in \u001b[0;36m__call__\u001b[0;34m(self, data, *args, **kwargs)\u001b[0m\n\u001b[1;32m    309\u001b[0m                 \u001b[0mthis\u001b[0m \u001b[0;34m+=\u001b[0m \u001b[0margs\u001b[0m\u001b[0;34m[\u001b[0m\u001b[0;36m0\u001b[0m\u001b[0;34m]\u001b[0m\u001b[0;34m,\u001b[0m\u001b[0;34m\u001b[0m\u001b[0;34m\u001b[0m\u001b[0m\n\u001b[1;32m    310\u001b[0m                 \u001b[0margs\u001b[0m \u001b[0;34m=\u001b[0m \u001b[0margs\u001b[0m\u001b[0;34m[\u001b[0m\u001b[0;36m1\u001b[0m\u001b[0;34m:\u001b[0m\u001b[0;34m]\u001b[0m\u001b[0;34m\u001b[0m\u001b[0;34m\u001b[0m\u001b[0m\n\u001b[0;32m--> 311\u001b[0;31m             yield from self._plot_args(\n\u001b[0m\u001b[1;32m    312\u001b[0m                 this, kwargs, ambiguous_fmt_datakey=ambiguous_fmt_datakey)\n\u001b[1;32m    313\u001b[0m \u001b[0;34m\u001b[0m\u001b[0m\n",
      "\u001b[0;32m/usr/local/lib/python3.10/dist-packages/matplotlib/axes/_base.py\u001b[0m in \u001b[0;36m_plot_args\u001b[0;34m(self, tup, kwargs, return_kwargs, ambiguous_fmt_datakey)\u001b[0m\n\u001b[1;32m    542\u001b[0m             \u001b[0;32mreturn\u001b[0m \u001b[0mlist\u001b[0m\u001b[0;34m(\u001b[0m\u001b[0mresult\u001b[0m\u001b[0;34m)\u001b[0m\u001b[0;34m\u001b[0m\u001b[0;34m\u001b[0m\u001b[0m\n\u001b[1;32m    543\u001b[0m         \u001b[0;32melse\u001b[0m\u001b[0;34m:\u001b[0m\u001b[0;34m\u001b[0m\u001b[0;34m\u001b[0m\u001b[0m\n\u001b[0;32m--> 544\u001b[0;31m             \u001b[0;32mreturn\u001b[0m \u001b[0;34m[\u001b[0m\u001b[0ml\u001b[0m\u001b[0;34m[\u001b[0m\u001b[0;36m0\u001b[0m\u001b[0;34m]\u001b[0m \u001b[0;32mfor\u001b[0m \u001b[0ml\u001b[0m \u001b[0;32min\u001b[0m \u001b[0mresult\u001b[0m\u001b[0;34m]\u001b[0m\u001b[0;34m\u001b[0m\u001b[0;34m\u001b[0m\u001b[0m\n\u001b[0m\u001b[1;32m    545\u001b[0m \u001b[0;34m\u001b[0m\u001b[0m\n\u001b[1;32m    546\u001b[0m \u001b[0;34m\u001b[0m\u001b[0m\n",
      "\u001b[0;32m/usr/local/lib/python3.10/dist-packages/matplotlib/axes/_base.py\u001b[0m in \u001b[0;36m<listcomp>\u001b[0;34m(.0)\u001b[0m\n\u001b[1;32m    542\u001b[0m             \u001b[0;32mreturn\u001b[0m \u001b[0mlist\u001b[0m\u001b[0;34m(\u001b[0m\u001b[0mresult\u001b[0m\u001b[0;34m)\u001b[0m\u001b[0;34m\u001b[0m\u001b[0;34m\u001b[0m\u001b[0m\n\u001b[1;32m    543\u001b[0m         \u001b[0;32melse\u001b[0m\u001b[0;34m:\u001b[0m\u001b[0;34m\u001b[0m\u001b[0;34m\u001b[0m\u001b[0m\n\u001b[0;32m--> 544\u001b[0;31m             \u001b[0;32mreturn\u001b[0m \u001b[0;34m[\u001b[0m\u001b[0ml\u001b[0m\u001b[0;34m[\u001b[0m\u001b[0;36m0\u001b[0m\u001b[0;34m]\u001b[0m \u001b[0;32mfor\u001b[0m \u001b[0ml\u001b[0m \u001b[0;32min\u001b[0m \u001b[0mresult\u001b[0m\u001b[0;34m]\u001b[0m\u001b[0;34m\u001b[0m\u001b[0;34m\u001b[0m\u001b[0m\n\u001b[0m\u001b[1;32m    545\u001b[0m \u001b[0;34m\u001b[0m\u001b[0m\n\u001b[1;32m    546\u001b[0m \u001b[0;34m\u001b[0m\u001b[0m\n",
      "\u001b[0;32m/usr/local/lib/python3.10/dist-packages/matplotlib/axes/_base.py\u001b[0m in \u001b[0;36m<genexpr>\u001b[0;34m(.0)\u001b[0m\n\u001b[1;32m    535\u001b[0m             \u001b[0mlabels\u001b[0m \u001b[0;34m=\u001b[0m \u001b[0;34m[\u001b[0m\u001b[0mlabel\u001b[0m\u001b[0;34m]\u001b[0m \u001b[0;34m*\u001b[0m \u001b[0mn_datasets\u001b[0m\u001b[0;34m\u001b[0m\u001b[0;34m\u001b[0m\u001b[0m\n\u001b[1;32m    536\u001b[0m \u001b[0;34m\u001b[0m\u001b[0m\n\u001b[0;32m--> 537\u001b[0;31m         result = (make_artist(x[:, j % ncx], y[:, j % ncy], kw,\n\u001b[0m\u001b[1;32m    538\u001b[0m                               {**kwargs, 'label': label})\n\u001b[1;32m    539\u001b[0m                   for j, label in enumerate(labels))\n",
      "\u001b[0;32m/usr/local/lib/python3.10/dist-packages/matplotlib/axes/_base.py\u001b[0m in \u001b[0;36m_makeline\u001b[0;34m(self, x, y, kw, kwargs)\u001b[0m\n\u001b[1;32m    349\u001b[0m         \u001b[0mdefault_dict\u001b[0m \u001b[0;34m=\u001b[0m \u001b[0mself\u001b[0m\u001b[0;34m.\u001b[0m\u001b[0m_getdefaults\u001b[0m\u001b[0;34m(\u001b[0m\u001b[0mset\u001b[0m\u001b[0;34m(\u001b[0m\u001b[0;34m)\u001b[0m\u001b[0;34m,\u001b[0m \u001b[0mkw\u001b[0m\u001b[0;34m)\u001b[0m\u001b[0;34m\u001b[0m\u001b[0;34m\u001b[0m\u001b[0m\n\u001b[1;32m    350\u001b[0m         \u001b[0mself\u001b[0m\u001b[0;34m.\u001b[0m\u001b[0m_setdefaults\u001b[0m\u001b[0;34m(\u001b[0m\u001b[0mdefault_dict\u001b[0m\u001b[0;34m,\u001b[0m \u001b[0mkw\u001b[0m\u001b[0;34m)\u001b[0m\u001b[0;34m\u001b[0m\u001b[0;34m\u001b[0m\u001b[0m\n\u001b[0;32m--> 351\u001b[0;31m         \u001b[0mseg\u001b[0m \u001b[0;34m=\u001b[0m \u001b[0mmlines\u001b[0m\u001b[0;34m.\u001b[0m\u001b[0mLine2D\u001b[0m\u001b[0;34m(\u001b[0m\u001b[0mx\u001b[0m\u001b[0;34m,\u001b[0m \u001b[0my\u001b[0m\u001b[0;34m,\u001b[0m \u001b[0;34m**\u001b[0m\u001b[0mkw\u001b[0m\u001b[0;34m)\u001b[0m\u001b[0;34m\u001b[0m\u001b[0;34m\u001b[0m\u001b[0m\n\u001b[0m\u001b[1;32m    352\u001b[0m         \u001b[0;32mreturn\u001b[0m \u001b[0mseg\u001b[0m\u001b[0;34m,\u001b[0m \u001b[0mkw\u001b[0m\u001b[0;34m\u001b[0m\u001b[0;34m\u001b[0m\u001b[0m\n\u001b[1;32m    353\u001b[0m \u001b[0;34m\u001b[0m\u001b[0m\n",
      "\u001b[0;32m/usr/local/lib/python3.10/dist-packages/matplotlib/_api/deprecation.py\u001b[0m in \u001b[0;36mwrapper\u001b[0;34m(*args, **kwargs)\u001b[0m\n\u001b[1;32m    452\u001b[0m                 \u001b[0;34m\"parameter will become keyword-only %(removal)s.\"\u001b[0m\u001b[0;34m,\u001b[0m\u001b[0;34m\u001b[0m\u001b[0;34m\u001b[0m\u001b[0m\n\u001b[1;32m    453\u001b[0m                 name=name, obj_type=f\"parameter of {func.__name__}()\")\n\u001b[0;32m--> 454\u001b[0;31m         \u001b[0;32mreturn\u001b[0m \u001b[0mfunc\u001b[0m\u001b[0;34m(\u001b[0m\u001b[0;34m*\u001b[0m\u001b[0margs\u001b[0m\u001b[0;34m,\u001b[0m \u001b[0;34m**\u001b[0m\u001b[0mkwargs\u001b[0m\u001b[0;34m)\u001b[0m\u001b[0;34m\u001b[0m\u001b[0;34m\u001b[0m\u001b[0m\n\u001b[0m\u001b[1;32m    455\u001b[0m \u001b[0;34m\u001b[0m\u001b[0m\n\u001b[1;32m    456\u001b[0m     \u001b[0;31m# Don't modify *func*'s signature, as boilerplate.py needs it.\u001b[0m\u001b[0;34m\u001b[0m\u001b[0;34m\u001b[0m\u001b[0m\n",
      "\u001b[0;32m/usr/local/lib/python3.10/dist-packages/matplotlib/lines.py\u001b[0m in \u001b[0;36m__init__\u001b[0;34m(self, xdata, ydata, linewidth, linestyle, color, gapcolor, marker, markersize, markeredgewidth, markeredgecolor, markerfacecolor, markerfacecoloralt, fillstyle, antialiased, dash_capstyle, solid_capstyle, dash_joinstyle, solid_joinstyle, pickradius, drawstyle, markevery, **kwargs)\u001b[0m\n\u001b[1;32m    391\u001b[0m         \u001b[0;31m# update kwargs before updating data to give the caller a\u001b[0m\u001b[0;34m\u001b[0m\u001b[0;34m\u001b[0m\u001b[0m\n\u001b[1;32m    392\u001b[0m         \u001b[0;31m# chance to init axes (and hence unit support)\u001b[0m\u001b[0;34m\u001b[0m\u001b[0;34m\u001b[0m\u001b[0m\n\u001b[0;32m--> 393\u001b[0;31m         \u001b[0mself\u001b[0m\u001b[0;34m.\u001b[0m\u001b[0m_internal_update\u001b[0m\u001b[0;34m(\u001b[0m\u001b[0mkwargs\u001b[0m\u001b[0;34m)\u001b[0m\u001b[0;34m\u001b[0m\u001b[0;34m\u001b[0m\u001b[0m\n\u001b[0m\u001b[1;32m    394\u001b[0m         \u001b[0mself\u001b[0m\u001b[0;34m.\u001b[0m\u001b[0m_pickradius\u001b[0m \u001b[0;34m=\u001b[0m \u001b[0mpickradius\u001b[0m\u001b[0;34m\u001b[0m\u001b[0;34m\u001b[0m\u001b[0m\n\u001b[1;32m    395\u001b[0m         \u001b[0mself\u001b[0m\u001b[0;34m.\u001b[0m\u001b[0mind_offset\u001b[0m \u001b[0;34m=\u001b[0m \u001b[0;36m0\u001b[0m\u001b[0;34m\u001b[0m\u001b[0;34m\u001b[0m\u001b[0m\n",
      "\u001b[0;32m/usr/local/lib/python3.10/dist-packages/matplotlib/artist.py\u001b[0m in \u001b[0;36m_internal_update\u001b[0;34m(self, kwargs)\u001b[0m\n\u001b[1;32m   1221\u001b[0m         \u001b[0mThe\u001b[0m \u001b[0mlack\u001b[0m \u001b[0mof\u001b[0m \u001b[0mprenormalization\u001b[0m \u001b[0;32mis\u001b[0m \u001b[0mto\u001b[0m \u001b[0mmaintain\u001b[0m \u001b[0mbackcompatibility\u001b[0m\u001b[0;34m.\u001b[0m\u001b[0;34m\u001b[0m\u001b[0;34m\u001b[0m\u001b[0m\n\u001b[1;32m   1222\u001b[0m         \"\"\"\n\u001b[0;32m-> 1223\u001b[0;31m         return self._update_props(\n\u001b[0m\u001b[1;32m   1224\u001b[0m             \u001b[0mkwargs\u001b[0m\u001b[0;34m,\u001b[0m \u001b[0;34m\"{cls.__name__}.set() got an unexpected keyword argument \"\u001b[0m\u001b[0;34m\u001b[0m\u001b[0;34m\u001b[0m\u001b[0m\n\u001b[1;32m   1225\u001b[0m             \"{prop_name!r}\")\n",
      "\u001b[0;32m/usr/local/lib/python3.10/dist-packages/matplotlib/artist.py\u001b[0m in \u001b[0;36m_update_props\u001b[0;34m(self, props, errfmt)\u001b[0m\n\u001b[1;32m   1186\u001b[0m         \"\"\"\n\u001b[1;32m   1187\u001b[0m         \u001b[0mret\u001b[0m \u001b[0;34m=\u001b[0m \u001b[0;34m[\u001b[0m\u001b[0;34m]\u001b[0m\u001b[0;34m\u001b[0m\u001b[0;34m\u001b[0m\u001b[0m\n\u001b[0;32m-> 1188\u001b[0;31m         \u001b[0;32mwith\u001b[0m \u001b[0mcbook\u001b[0m\u001b[0;34m.\u001b[0m\u001b[0m_setattr_cm\u001b[0m\u001b[0;34m(\u001b[0m\u001b[0mself\u001b[0m\u001b[0;34m,\u001b[0m \u001b[0meventson\u001b[0m\u001b[0;34m=\u001b[0m\u001b[0;32mFalse\u001b[0m\u001b[0;34m)\u001b[0m\u001b[0;34m:\u001b[0m\u001b[0;34m\u001b[0m\u001b[0;34m\u001b[0m\u001b[0m\n\u001b[0m\u001b[1;32m   1189\u001b[0m             \u001b[0;32mfor\u001b[0m \u001b[0mk\u001b[0m\u001b[0;34m,\u001b[0m \u001b[0mv\u001b[0m \u001b[0;32min\u001b[0m \u001b[0mprops\u001b[0m\u001b[0;34m.\u001b[0m\u001b[0mitems\u001b[0m\u001b[0;34m(\u001b[0m\u001b[0;34m)\u001b[0m\u001b[0;34m:\u001b[0m\u001b[0;34m\u001b[0m\u001b[0;34m\u001b[0m\u001b[0m\n\u001b[1;32m   1190\u001b[0m                 \u001b[0;31m# Allow attributes we want to be able to update through\u001b[0m\u001b[0;34m\u001b[0m\u001b[0;34m\u001b[0m\u001b[0m\n",
      "\u001b[0;32m/usr/lib/python3.10/contextlib.py\u001b[0m in \u001b[0;36mhelper\u001b[0;34m(*args, **kwds)\u001b[0m\n\u001b[1;32m    277\u001b[0m             \u001b[0;34m<\u001b[0m\u001b[0mcleanup\u001b[0m\u001b[0;34m>\u001b[0m\u001b[0;34m\u001b[0m\u001b[0;34m\u001b[0m\u001b[0m\n\u001b[1;32m    278\u001b[0m     \"\"\"\n\u001b[0;32m--> 279\u001b[0;31m     \u001b[0;34m@\u001b[0m\u001b[0mwraps\u001b[0m\u001b[0;34m(\u001b[0m\u001b[0mfunc\u001b[0m\u001b[0;34m)\u001b[0m\u001b[0;34m\u001b[0m\u001b[0;34m\u001b[0m\u001b[0m\n\u001b[0m\u001b[1;32m    280\u001b[0m     \u001b[0;32mdef\u001b[0m \u001b[0mhelper\u001b[0m\u001b[0;34m(\u001b[0m\u001b[0;34m*\u001b[0m\u001b[0margs\u001b[0m\u001b[0;34m,\u001b[0m \u001b[0;34m**\u001b[0m\u001b[0mkwds\u001b[0m\u001b[0;34m)\u001b[0m\u001b[0;34m:\u001b[0m\u001b[0;34m\u001b[0m\u001b[0;34m\u001b[0m\u001b[0m\n\u001b[1;32m    281\u001b[0m         \u001b[0;32mreturn\u001b[0m \u001b[0m_GeneratorContextManager\u001b[0m\u001b[0;34m(\u001b[0m\u001b[0mfunc\u001b[0m\u001b[0;34m,\u001b[0m \u001b[0margs\u001b[0m\u001b[0;34m,\u001b[0m \u001b[0mkwds\u001b[0m\u001b[0;34m)\u001b[0m\u001b[0;34m\u001b[0m\u001b[0;34m\u001b[0m\u001b[0m\n",
      "\u001b[0;31mKeyboardInterrupt\u001b[0m: "
     ]
    },
    {
     "data": {
      "image/png": "[encoded data removed]",
      "text/plain": [
       "<Figure size 700x700 with 1 Axes>"
      ]
     },
     "metadata": {},
     "output_type": "display_data"
    }
   ],
   "source": [
    "def draw(richtung=np.array([-1,1]), first=False):\n",
    "    data = np.array([[2,3],[-4,-6]])\n",
    "\n",
    "    config = {\"size\": 11}\n",
    "    locals().update(config)\n",
    "    koordinatensystem = Koordinatensystem(config)\n",
    "    vec = Vektorfolge([np.zeros(2), richtung], list(mcolors.TABLEAU_COLORS.keys())[2:0:-1])\n",
    "    gerade = Gerade(np.zeros(2), richtung)\n",
    "\n",
    "    plt.figure(figsize=[7,7])\n",
    "    koordinatensystem.draw()\n",
    "    gerade.draw()\n",
    "    vec.draw()\n",
    "    plt.plot(data[:,0], data[:,1], \"ro\", markersize=5)\n",
    "    plt.axis(\"equal\");plt.xlim([-size,size]);plt.ylim([-size,size]);plt.axis(\"off\")\n",
    "    plt.show()\n",
    "    print(data)\n",
    "    if not first:\n",
    "        if gerade.on_gerade(data[0]) and gerade.on_gerade(data[1]):\n",
    "            print(f\"Sehr gut! Der Richtungsvektor [{richtung[0]},{richtung[1]}] ist korrekt!\")\n",
    "            return True\n",
    "        else:\n",
    "            print(f\"Das stimmt leider noch nicht... Der Richtungsvektor [{richtung[0]},{richtung[1]}] ist nicht richtig.\")\n",
    "            return False\n",
    "\n",
    "draw(first=True)\n",
    "def click(sender):\n",
    "    richtung = np.array([float(s) for s in test.value.split(\",\")])\n",
    "    return richtung\n",
    "from ipywidgets import interact\n",
    "done = False\n",
    "while not done:\n",
    "    print(\"Geben Sie einen Richtungsvektor ein. (Zum Beispiel 1,-1)\")\n",
    "    test = widgets.Text(\n",
    "        value='1,1',\n",
    "        placeholder='Type something',\n",
    "        description='String:',\n",
    "        disabled=False\n",
    "    );display(test)\n",
    "    richtung = np.array([float(s) for s in test.value.split(\",\")])\n",
    "    \"\"\"b = widgets.Button(\n",
    "        description='Click me',\n",
    "        disabled=False,\n",
    "        button_style='info', # 'success', 'info', 'warning', 'danger' or ''\n",
    "        tooltip='Click me',\n",
    "        icon='check'\n",
    "    );display(b)\n",
    "    b.on_click(click)\"\"\"\n",
    "    interact(draw(richtung))\n",
    "    clear_output()\n",
    "    done = draw(richtung)\n"
   ]
  },
  {
   "cell_type": "code",
   "execution_count": null,
   "metadata": {
    "colab": {
     "base_uri": "https://localhost:8080/",
     "height": 338,
     "referenced_widgets": [
      "338277e2f9f74e24bb92b92c8c4caf6c",
      "50ddb109a25f48b6ba4552961a3ffcea",
      "b475392513e64e32b1689ccd6b0a331c",
      "3f3ad28ea32c4018b4d7a3f2d787ee44",
      "49143173b3d9452fbc4eb32e6fc7d8ca",
      "70f883c4e92b401d89eb9aa1e3b180ca",
      "6eb2ccba72a3433390c40918ac0b97e8",
      "87418d39a12d4eccb241f9de94ffa784",
      "a278d9ff23544f1185bca9108fcd3bf4"
     ]
    },
    "id": "ZVyORAfo-maI",
    "outputId": "47b6744e-e6dd-45ed-bce0-3c29b99f6df0"
   },
   "outputs": [
    {
     "data": {
      "application/vnd.jupyter.widget-view+json": {
       "model_id": "338277e2f9f74e24bb92b92c8c4caf6c",
       "version_major": 2,
       "version_minor": 0
      },
      "text/plain": [
       "Text(value='Hello World', description='String:', placeholder='Type something')"
      ]
     },
     "metadata": {},
     "output_type": "display_data"
    },
    {
     "data": {
      "application/vnd.jupyter.widget-view+json": {
       "model_id": "3f3ad28ea32c4018b4d7a3f2d787ee44",
       "version_major": 2,
       "version_minor": 0
      },
      "text/plain": [
       "Text(value='Hello World', description='String:', placeholder='Type something')"
      ]
     },
     "metadata": {},
     "output_type": "display_data"
    },
    {
     "data": {
      "application/vnd.jupyter.widget-view+json": {
       "model_id": "6eb2ccba72a3433390c40918ac0b97e8",
       "version_major": 2,
       "version_minor": 0
      },
      "text/plain": [
       "Button(button_style='info', description='Click me', icon='check', style=ButtonStyle(), tooltip='Click me')"
      ]
     },
     "metadata": {},
     "output_type": "display_data"
    },
    {
     "name": "stdout",
     "output_type": "stream",
     "text": [
      "None\n",
      "Text(value='Hello World', description='String:', placeholder='Type something')\n",
      "Text(value='Hello World', description='String:', placeholder='Type something')\n",
      "Text(value='Hello World', description='String:', placeholder='Type something')\n",
      "Text(value='Hello World', description='String:', placeholder='Type something')\n",
      "Text(value='Hello World', description='String:', placeholder='Type something')\n",
      "Text(value='Hello World', description='String:', placeholder='Type something')\n",
      "Text(value='Hello World', description='String:', placeholder='Type something')\n",
      "Text(value='Hello World', description='String:', placeholder='Type something')\n",
      "Text(value='Hello World', description='String:', placeholder='Type something')\n",
      "Text(value='Hello World', description='String:', placeholder='Type something')\n",
      "Text(value='Hello World', description='String:', placeholder='Type something')\n",
      "Text(value='Hello World', description='String:', placeholder='Type something')\n"
     ]
    }
   ],
   "source": [
    "t1 = widgets.Text(\n",
    "        value='Hello World',\n",
    "        placeholder='Type something',\n",
    "        description='String:',\n",
    "        disabled=False\n",
    "    )\n",
    "t2 = widgets.Text(\n",
    "        value='Hello World',\n",
    "        placeholder='Type something',\n",
    "        description='String:',\n",
    "        disabled=False\n",
    "    )\n",
    "\n",
    "b = widgets.Button(\n",
    "    description='Click me',\n",
    "    disabled=False,\n",
    "    button_style='info', # 'success', 'info', 'warning', 'danger' or ''\n",
    "    tooltip='Click me',\n",
    "    icon='check'\n",
    ")\n",
    "\n",
    "def click(sender):\n",
    "    print(t1)\n",
    "    print(t2)\n",
    "    return \"hi\"\n",
    "display(t1)\n",
    "display(t2)\n",
    "display(b)\n",
    "print(b.on_click(click))"
   ]
  },
  {
   "cell_type": "code",
   "execution_count": null,
   "metadata": {
    "colab": {
     "base_uri": "https://localhost:8080/",
     "height": 613
    },
    "id": "6wquOf7E5mLe",
    "outputId": "f2d0c37d-2161-46f4-83b1-959ed112a14b"
   },
   "outputs": [
    {
     "name": "stdout",
     "output_type": "stream",
     "text": [
      "['tab:green', 'tab:orange']\n"
     ]
    },
    {
     "data": {
      "image/png": "[encoded data removed]",
      "text/plain": [
       "<Figure size 700x700 with 1 Axes>"
      ]
     },
     "metadata": {},
     "output_type": "display_data"
    },
    {
     "name": "stdout",
     "output_type": "stream",
     "text": [
      "Das stimmt leider noch nicht... Der Richtungsvektor [1,2] ist nicht richtig.\n"
     ]
    }
   ],
   "source": [
    "aufpunkt = np.array(\n",
    "    [-1,1]\n",
    "    )\n",
    "richtung = np.array(\n",
    "    [1,2]\n",
    "    )\n",
    "\n",
    "data = np.array([[-4,6],[2,-8]])\n",
    "\n",
    "config = {\"size\": 11}\n",
    "locals().update(config)\n",
    "koordinatensystem = Koordinatensystem(config)\n",
    "vec = Vektorfolge([aufpunkt, richtung], list(mcolors.TABLEAU_COLORS.keys())[2:0:-1])\n",
    "gerade = Gerade(aufpunkt, richtung)\n",
    "\n",
    "plt.figure(figsize=[7,7])\n",
    "koordinatensystem.draw()\n",
    "gerade.draw()\n",
    "vec.draw()\n",
    "plt.plot(data[:,0], data[:,1], \"ro\", markersize=5)\n",
    "plt.axis(\"equal\");plt.xlim([-size,size]);plt.ylim([-size,size]);plt.axis(\"off\")\n",
    "plt.show()\n",
    "\n",
    "if gerade.on_gerade(data[0]) and gerade.on_gerade(data[1]):\n",
    "    print(f\"Sehr gut! Der Richtungsvektor [{richtung[0]},{richtung[1]}] ist korrekt!\")\n",
    "else:\n",
    "    print(f\"Das stimmt leider noch nicht... Der Richtungsvektor [{richtung[0]},{richtung[1]}] ist nicht richtig.\")\n"
   ]
  },
  {
   "cell_type": "code",
   "execution_count": null,
   "metadata": {
    "colab": {
     "base_uri": "https://localhost:8080/",
     "height": 647
    },
    "id": "kYqaDNdElLEo",
    "outputId": "fe003fc5-8bff-4fdd-abe2-a351aeb29657"
   },
   "outputs": [
    {
     "name": "stdout",
     "output_type": "stream",
     "text": [
      "File ‘utils_gerade.py’ already there; not retrieving.\n",
      "\n"
     ]
    },
    {
     "data": {
      "image/png": "[encoded data removed]",
      "text/plain": [
       "<Figure size 700x700 with 1 Axes>"
      ]
     },
     "metadata": {},
     "output_type": "display_data"
    },
    {
     "data": {
      "text/plain": [
       "array([[ 12,   7],\n",
       "       [-12,  -2]])"
      ]
     },
     "execution_count": 5,
     "metadata": {},
     "output_type": "execute_result"
    }
   ],
   "source": [
    "import numpy as np\n",
    "import matplotlib.pyplot as plt\n",
    "import matplotlib.colors as mcolors\n",
    "!wget -nc https://raw.githubusercontent.com/inb-luebeck/CS4230-S/main/utils/utils_gerade.py\n",
    "from utils_gerade import gerade, setup\n",
    "\n",
    "def get_idx(n=100):\n",
    "    i = np.random.randint(0, n)\n",
    "    j = i\n",
    "    while j==i:\n",
    "        j = np.random.randint(0, n)\n",
    "    return np.array([i, j])\n",
    "\n",
    "def setup():\n",
    "    data = np.stack(np.meshgrid(np.arange(-5,6), np.arange(-5,6))).reshape([2,-1]).transpose()\n",
    "    size = 11\n",
    "    ij = get_idx(data.shape[0])\n",
    "    pts = data[ij]\n",
    "    d = pts[0]-pts[1]\n",
    "    ecke1 = pts[0]\n",
    "    while np.max(np.abs(ecke1))<=size:\n",
    "        ecke1 += d\n",
    "    ecke2 = pts[1]\n",
    "    while np.max(np.abs(ecke2))<=size:\n",
    "        ecke2 -= d\n",
    "    ecken = np.stack([ecke1, ecke2])\n",
    "\n",
    "    plt.figure(figsize=[7,7])\n",
    "    plt.plot([0,0], [-size,size], \"k\")\n",
    "    plt.plot([-size,size], [0,0], \"k\")\n",
    "    for t in range(1,size):\n",
    "        plt.plot([t,t], [-size,size], \"k\", alpha=0.1)\n",
    "        plt.plot([-t,-t], [-size,size], \"k\", alpha=0.1)\n",
    "        plt.plot([-size,size], [t,t], \"k\", alpha=0.1)\n",
    "        plt.plot([-size,size], [-t,-t], \"k\", alpha=0.1)\n",
    "        if t%2==0:\n",
    "            plt.plot([t,t], [-0.1,0.1], \"k\")\n",
    "            plt.text(t,-0.5, str(t), {\"horizontalalignment\":\"center\", \"verticalalignment\":\"center\"})\n",
    "            plt.plot([-t,-t], [-0.1,0.1], \"k\")\n",
    "            plt.text(-t,-0.5, str(-t), {\"horizontalalignment\":\"center\", \"verticalalignment\":\"center\"})\n",
    "            plt.plot([-0.1,0.1], [t,t], \"k\")\n",
    "            plt.text(-0.4, -t, str(-t), {\"horizontalalignment\":\"right\", \"verticalalignment\":\"center\"})\n",
    "            plt.plot([-0.1,0.1], [-t,-t], \"k\")\n",
    "            plt.text(-0.4, t, str(t), {\"horizontalalignment\":\"right\", \"verticalalignment\":\"center\"})\n",
    "    plt.plot([-0.1,0,0.1], [size-0.2,size,(size-0.2)], \"k\")\n",
    "    plt.plot([(size-0.2),size,(size-0.2)], [-0.1,0,0.1], \"k\")\n",
    "    plt.plot([-0.1,0,0.1], [-(size-0.2),-size,-(size-0.2)], \"k\")\n",
    "    plt.plot([-(size-0.2),-size,-(size-0.2)], [-0.1,0,0.1], \"k\")\n",
    "    plt.text(-0.4, (size-0.2), \"y\", {\"horizontalalignment\":\"center\", \"verticalalignment\":\"center\"})\n",
    "    plt.text(size, -0.4, \"x\", {\"horizontalalignment\":\"center\", \"verticalalignment\":\"center\"})\n",
    "    plt.plot(ecken[:,0], ecken[:,1])\n",
    "    plt.plot(data[ij,0], data[ij,1], \"ro\", markersize=5)\n",
    "    plt.axis(\"equal\")\n",
    "    plt.xlim([-size,size])\n",
    "    plt.ylim([-size,size])\n",
    "    plt.axis(\"off\")\n",
    "    plt.show()\n",
    "\n",
    "    return pts\n",
    "\n",
    "setup()"
   ]
  },
  {
   "cell_type": "code",
   "execution_count": null,
   "metadata": {
    "colab": {
     "base_uri": "https://localhost:8080/",
     "height": 595
    },
    "id": "GikIIcH1Jxly",
    "outputId": "6f7baa0a-74e8-4c19-f925-f132fabcad97"
   },
   "outputs": [
    {
     "data": {
      "image/png": "[encoded data removed]",
      "text/plain": [
       "<Figure size 700x700 with 1 Axes>"
      ]
     },
     "metadata": {},
     "output_type": "display_data"
    },
    {
     "name": "stdout",
     "output_type": "stream",
     "text": [
      "Das stimmt leider noch nicht... Der Richtungsvektor [4,-2] ist nicht richtig.\n"
     ]
    }
   ],
   "source": [
    "def draw(pts):\n",
    "    size = 11\n",
    "    config = {\"angles\":'xy', \"scale_units\":'xy', \"scale\":1, \"width\":0.005}\n",
    "    d = pts.copy()#[0]-pts[1]\n",
    "    ecke1 = pts.copy()\n",
    "    while np.max(np.abs(ecke1))<=size:\n",
    "        ecke1 += d\n",
    "    ecke2 = pts.copy()\n",
    "    while np.max(np.abs(ecke2))<=size:\n",
    "        ecke2 -= d\n",
    "    ecken = np.stack([ecke1, ecke2])\n",
    "    data = np.array([\n",
    "        [6,3],\n",
    "        [-4,-2]\n",
    "    ])\n",
    "    plt.figure(figsize=[7,7])\n",
    "    plt.plot([0,0], [-size,size], \"k\")\n",
    "    plt.plot([-size,size], [0,0], \"k\")\n",
    "    for t in range(1,size):\n",
    "        plt.plot([t,t], [-size,size], \"k\", alpha=0.1)\n",
    "        plt.plot([-t,-t], [-size,size], \"k\", alpha=0.1)\n",
    "        plt.plot([-size,size], [t,t], \"k\", alpha=0.1)\n",
    "        plt.plot([-size,size], [-t,-t], \"k\", alpha=0.1)\n",
    "        if t%2==0:\n",
    "            plt.plot([t,t], [-0.1,0.1], \"k\")\n",
    "            plt.text(t,-0.5, str(t), {\"horizontalalignment\":\"center\", \"verticalalignment\":\"center\"})\n",
    "            plt.plot([-t,-t], [-0.1,0.1], \"k\")\n",
    "            plt.text(-t,-0.5, str(-t), {\"horizontalalignment\":\"center\", \"verticalalignment\":\"center\"})\n",
    "            plt.plot([-0.1,0.1], [t,t], \"k\")\n",
    "            plt.text(-0.4, -t, str(-t), {\"horizontalalignment\":\"right\", \"verticalalignment\":\"center\"})\n",
    "            plt.plot([-0.1,0.1], [-t,-t], \"k\")\n",
    "            plt.text(-0.4, t, str(t), {\"horizontalalignment\":\"right\", \"verticalalignment\":\"center\"})\n",
    "    plt.plot([-0.1,0,0.1], [size-0.2,size,(size-0.2)], \"k\")\n",
    "    plt.plot([(size-0.2),size,(size-0.2)], [-0.1,0,0.1], \"k\")\n",
    "    plt.plot([-0.1,0,0.1], [-(size-0.2),-size,-(size-0.2)], \"k\")\n",
    "    plt.plot([-(size-0.2),-size,-(size-0.2)], [-0.1,0,0.1], \"k\")\n",
    "    plt.text(-0.4, (size-0.2), \"y\", {\"horizontalalignment\":\"center\", \"verticalalignment\":\"center\"})\n",
    "    plt.text(size, -0.4, \"x\", {\"horizontalalignment\":\"center\", \"verticalalignment\":\"center\"})\n",
    "    plt.plot(ecken[:,0], ecken[:,1])\n",
    "    plt.quiver(0,0,*pts, **config, color=\"tab:orange\", zorder=2)\n",
    "    plt.plot(data[:,0], data[:,1], \"ro\", markersize=5)\n",
    "    plt.axis(\"equal\");plt.xlim([-size,size]);plt.ylim([-size,size]);plt.axis(\"off\")\n",
    "    plt.show()\n",
    "    if np.sum(np.abs(pts/np.linalg.norm(pts)-np.array([6,3])/np.linalg.norm(np.array([6,3])))):\n",
    "        print(f\"Das stimmt leider noch nicht... Der Richtungsvektor [{pts[0]},{pts[1]}] ist nicht richtig.\")\n",
    "    else:\n",
    "        print(f\"Sehr gut! Der Richtungsvektor [{pts[0]},{pts[1]}] ist korrekt!\")\n",
    "\n",
    "v = np.array([4,-2])\n",
    "draw(v)"
   ]
  },
  {
   "cell_type": "code",
   "execution_count": null,
   "metadata": {
    "colab": {
     "base_uri": "https://localhost:8080/",
     "height": 613
    },
    "id": "g2eYdTKAOsPS",
    "outputId": "32a265a7-8571-4ffe-9a1c-325f1c1f0bdb"
   },
   "outputs": [
    {
     "name": "stdout",
     "output_type": "stream",
     "text": [
      "['tab:green', 'tab:orange']\n"
     ]
    },
    {
     "data": {
      "image/png": "[encoded data removed]",
      "text/plain": [
       "<Figure size 700x700 with 1 Axes>"
      ]
     },
     "metadata": {},
     "output_type": "display_data"
    },
    {
     "name": "stdout",
     "output_type": "stream",
     "text": [
      "Das stimmt leider noch nicht... Aufpunkt [0,0] Richtungsvektor [1,1] sind nicht richtig.\n"
     ]
    }
   ],
   "source": [
    "\n",
    "\n",
    "def run(aufpunkt, richtung):\n",
    "    size = 11\n",
    "    data = np.array([\n",
    "        [0,4],\n",
    "        [-4,0]\n",
    "    ])\n",
    "\n",
    "    koordinatensystem = Koordinatensystem()\n",
    "    vec = Vektorfolge([aufpunkt, richtung], list(mcolors.TABLEAU_COLORS.keys())[2:0:-1])\n",
    "    gerade = Gerade(aufpunkt, richtung)\n",
    "\n",
    "    plt.figure(figsize=[7,7])\n",
    "    koordinatensystem.draw()\n",
    "    gerade.draw()\n",
    "    vec.draw()\n",
    "    plt.plot(data[:,0], data[:,1], \"ro\", markersize=5)\n",
    "    plt.axis(\"equal\");plt.xlim([-size,size]);plt.ylim([-size,size]);plt.axis(\"off\")\n",
    "    plt.show()\n",
    "\n",
    "    if gerade.on_gerade(data[0]) and gerade.on_gerade(data[1]):\n",
    "        print(f\"Sehr gut! Aufpunkt [{aufpunkt[0]},{aufpunkt[1]}] Richtungsvektor [{richtung[0]},{richtung[1]}] sind korrekt!\")\n",
    "    else:\n",
    "        print(f\"Das stimmt leider noch nicht... Aufpunkt [{aufpunkt[0]},{aufpunkt[1]}] Richtungsvektor [{richtung[0]},{richtung[1]}] sind nicht richtig.\")\n",
    "\n",
    "\n",
    "aufpunkt = np.array([0,0])\n",
    "richtung = np.array([1,1])\n",
    "run(aufpunkt, richtung)\n",
    "\n",
    "# todo: -richtung funktioniert nicht..."
   ]
  }
 ],
 "metadata": {
  "colab": {
   "authorship_tag": "ABX9TyNvVB1AyckE9DDTx5I2h8TT",
   "include_colab_link": true,
   "provenance": []
  },
  "kernelspec": {
   "display_name": "Python 3",
   "name": "python3"
  },
  "language_info": {
   "name": "python"
  },
  "widgets": {
   "application/vnd.jupyter.widget-state+json": {
    "0180757874d046aca96375545bfdc17b": {
     "model_module": "@jupyter-widgets/base",
     "model_module_version": "1.2.0",
     "model_name": "LayoutModel",
     "state": {
      "_model_module": "@jupyter-widgets/base",
      "_model_module_version": "1.2.0",
      "_model_name": "LayoutModel",
      "_view_count": null,
      "_view_module": "@jupyter-widgets/base",
      "_view_module_version": "1.2.0",
      "_view_name": "LayoutView",
      "align_content": null,
      "align_items": null,
      "align_self": null,
      "border": null,
      "bottom": null,
      "display": null,
      "flex": null,
      "flex_flow": null,
      "grid_area": null,
      "grid_auto_columns": null,
      "grid_auto_flow": null,
      "grid_auto_rows": null,
      "grid_column": null,
      "grid_gap": null,
      "grid_row": null,
      "grid_template_areas": null,
      "grid_template_columns": null,
      "grid_template_rows": null,
      "height": null,
      "justify_content": null,
      "justify_items": null,
      "left": null,
      "margin": null,
      "max_height": null,
      "max_width": null,
      "min_height": null,
      "min_width": null,
      "object_fit": null,
      "object_position": null,
      "order": null,
      "overflow": null,
      "overflow_x": null,
      "overflow_y": null,
      "padding": null,
      "right": null,
      "top": null,
      "visibility": null,
      "width": null
     }
    },
    "0a5c89a522d047bea3ad66dba331b388": {
     "model_module": "@jupyter-widgets/base",
     "model_module_version": "1.2.0",
     "model_name": "LayoutModel",
     "state": {
      "_model_module": "@jupyter-widgets/base",
      "_model_module_version": "1.2.0",
      "_model_name": "LayoutModel",
      "_view_count": null,
      "_view_module": "@jupyter-widgets/base",
      "_view_module_version": "1.2.0",
      "_view_name": "LayoutView",
      "align_content": null,
      "align_items": null,
      "align_self": null,
      "border": null,
      "bottom": null,
      "display": null,
      "flex": null,
      "flex_flow": null,
      "grid_area": null,
      "grid_auto_columns": null,
      "grid_auto_flow": null,
      "grid_auto_rows": null,
      "grid_column": null,
      "grid_gap": null,
      "grid_row": null,
      "grid_template_areas": null,
      "grid_template_columns": null,
      "grid_template_rows": null,
      "height": null,
      "justify_content": null,
      "justify_items": null,
      "left": null,
      "margin": null,
      "max_height": null,
      "max_width": null,
      "min_height": null,
      "min_width": null,
      "object_fit": null,
      "object_position": null,
      "order": null,
      "overflow": null,
      "overflow_x": null,
      "overflow_y": null,
      "padding": null,
      "right": null,
      "top": null,
      "visibility": null,
      "width": null
     }
    },
    "120ada1323a949a7849dc6e0ca4ff2bc": {
     "model_module": "@jupyter-widgets/base",
     "model_module_version": "1.2.0",
     "model_name": "LayoutModel",
     "state": {
      "_model_module": "@jupyter-widgets/base",
      "_model_module_version": "1.2.0",
      "_model_name": "LayoutModel",
      "_view_count": null,
      "_view_module": "@jupyter-widgets/base",
      "_view_module_version": "1.2.0",
      "_view_name": "LayoutView",
      "align_content": null,
      "align_items": null,
      "align_self": null,
      "border": null,
      "bottom": null,
      "display": null,
      "flex": null,
      "flex_flow": null,
      "grid_area": null,
      "grid_auto_columns": null,
      "grid_auto_flow": null,
      "grid_auto_rows": null,
      "grid_column": null,
      "grid_gap": null,
      "grid_row": null,
      "grid_template_areas": null,
      "grid_template_columns": null,
      "grid_template_rows": null,
      "height": null,
      "justify_content": null,
      "justify_items": null,
      "left": null,
      "margin": null,
      "max_height": null,
      "max_width": null,
      "min_height": null,
      "min_width": null,
      "object_fit": null,
      "object_position": null,
      "order": null,
      "overflow": null,
      "overflow_x": null,
      "overflow_y": null,
      "padding": null,
      "right": null,
      "top": null,
      "visibility": null,
      "width": null
     }
    },
    "1c0cc282185f4736a85c509e660b5c64": {
     "model_module": "@jupyter-widgets/controls",
     "model_module_version": "1.5.0",
     "model_name": "TextModel",
     "state": {
      "_dom_classes": [],
      "_model_module": "@jupyter-widgets/controls",
      "_model_module_version": "1.5.0",
      "_model_name": "TextModel",
      "_view_count": null,
      "_view_module": "@jupyter-widgets/controls",
      "_view_module_version": "1.5.0",
      "_view_name": "TextView",
      "continuous_update": true,
      "description": "String:",
      "description_tooltip": null,
      "disabled": false,
      "layout": "IPY_MODEL_120ada1323a949a7849dc6e0ca4ff2bc",
      "placeholder": "Type something",
      "style": "IPY_MODEL_e68a98b27d4340e09e11affd991c5f89",
      "value": "1,1"
     }
    },
    "338277e2f9f74e24bb92b92c8c4caf6c": {
     "model_module": "@jupyter-widgets/controls",
     "model_module_version": "1.5.0",
     "model_name": "TextModel",
     "state": {
      "_dom_classes": [],
      "_model_module": "@jupyter-widgets/controls",
      "_model_module_version": "1.5.0",
      "_model_name": "TextModel",
      "_view_count": null,
      "_view_module": "@jupyter-widgets/controls",
      "_view_module_version": "1.5.0",
      "_view_name": "TextView",
      "continuous_update": true,
      "description": "String:",
      "description_tooltip": null,
      "disabled": false,
      "layout": "IPY_MODEL_50ddb109a25f48b6ba4552961a3ffcea",
      "placeholder": "Type something",
      "style": "IPY_MODEL_b475392513e64e32b1689ccd6b0a331c",
      "value": "Hello World"
     }
    },
    "34ded79df35c45d09656adb630ec55df": {
     "model_module": "@jupyter-widgets/controls",
     "model_module_version": "1.5.0",
     "model_name": "DescriptionStyleModel",
     "state": {
      "_model_module": "@jupyter-widgets/controls",
      "_model_module_version": "1.5.0",
      "_model_name": "DescriptionStyleModel",
      "_view_count": null,
      "_view_module": "@jupyter-widgets/base",
      "_view_module_version": "1.2.0",
      "_view_name": "StyleView",
      "description_width": ""
     }
    },
    "35d49f9f347a490ba6b90457519fc257": {
     "model_module": "@jupyter-widgets/base",
     "model_module_version": "1.2.0",
     "model_name": "LayoutModel",
     "state": {
      "_model_module": "@jupyter-widgets/base",
      "_model_module_version": "1.2.0",
      "_model_name": "LayoutModel",
      "_view_count": null,
      "_view_module": "@jupyter-widgets/base",
      "_view_module_version": "1.2.0",
      "_view_name": "LayoutView",
      "align_content": null,
      "align_items": null,
      "align_self": null,
      "border": null,
      "bottom": null,
      "display": null,
      "flex": null,
      "flex_flow": null,
      "grid_area": null,
      "grid_auto_columns": null,
      "grid_auto_flow": null,
      "grid_auto_rows": null,
      "grid_column": null,
      "grid_gap": null,
      "grid_row": null,
      "grid_template_areas": null,
      "grid_template_columns": null,
      "grid_template_rows": null,
      "height": null,
      "justify_content": null,
      "justify_items": null,
      "left": null,
      "margin": null,
      "max_height": null,
      "max_width": null,
      "min_height": null,
      "min_width": null,
      "object_fit": null,
      "object_position": null,
      "order": null,
      "overflow": null,
      "overflow_x": null,
      "overflow_y": null,
      "padding": null,
      "right": null,
      "top": null,
      "visibility": null,
      "width": null
     }
    },
    "3f3ad28ea32c4018b4d7a3f2d787ee44": {
     "model_module": "@jupyter-widgets/controls",
     "model_module_version": "1.5.0",
     "model_name": "TextModel",
     "state": {
      "_dom_classes": [],
      "_model_module": "@jupyter-widgets/controls",
      "_model_module_version": "1.5.0",
      "_model_name": "TextModel",
      "_view_count": null,
      "_view_module": "@jupyter-widgets/controls",
      "_view_module_version": "1.5.0",
      "_view_name": "TextView",
      "continuous_update": true,
      "description": "String:",
      "description_tooltip": null,
      "disabled": false,
      "layout": "IPY_MODEL_49143173b3d9452fbc4eb32e6fc7d8ca",
      "placeholder": "Type something",
      "style": "IPY_MODEL_70f883c4e92b401d89eb9aa1e3b180ca",
      "value": "Hello World"
     }
    },
    "4491a9113a044b08ad33e0d0b6918096": {
     "model_module": "@jupyter-widgets/controls",
     "model_module_version": "1.5.0",
     "model_name": "TextModel",
     "state": {
      "_dom_classes": [],
      "_model_module": "@jupyter-widgets/controls",
      "_model_module_version": "1.5.0",
      "_model_name": "TextModel",
      "_view_count": null,
      "_view_module": "@jupyter-widgets/controls",
      "_view_module_version": "1.5.0",
      "_view_name": "TextView",
      "continuous_update": true,
      "description": "String:",
      "description_tooltip": null,
      "disabled": false,
      "layout": "IPY_MODEL_bba54ec4feeb416cb892b0af7679305b",
      "placeholder": "Type something",
      "style": "IPY_MODEL_927421f3725547b18541a0e9f6c8c865",
      "value": "1,1"
     }
    },
    "49143173b3d9452fbc4eb32e6fc7d8ca": {
     "model_module": "@jupyter-widgets/base",
     "model_module_version": "1.2.0",
     "model_name": "LayoutModel",
     "state": {
      "_model_module": "@jupyter-widgets/base",
      "_model_module_version": "1.2.0",
      "_model_name": "LayoutModel",
      "_view_count": null,
      "_view_module": "@jupyter-widgets/base",
      "_view_module_version": "1.2.0",
      "_view_name": "LayoutView",
      "align_content": null,
      "align_items": null,
      "align_self": null,
      "border": null,
      "bottom": null,
      "display": null,
      "flex": null,
      "flex_flow": null,
      "grid_area": null,
      "grid_auto_columns": null,
      "grid_auto_flow": null,
      "grid_auto_rows": null,
      "grid_column": null,
      "grid_gap": null,
      "grid_row": null,
      "grid_template_areas": null,
      "grid_template_columns": null,
      "grid_template_rows": null,
      "height": null,
      "justify_content": null,
      "justify_items": null,
      "left": null,
      "margin": null,
      "max_height": null,
      "max_width": null,
      "min_height": null,
      "min_width": null,
      "object_fit": null,
      "object_position": null,
      "order": null,
      "overflow": null,
      "overflow_x": null,
      "overflow_y": null,
      "padding": null,
      "right": null,
      "top": null,
      "visibility": null,
      "width": null
     }
    },
    "491d30977d2a4ac4bd0bf40a6cebb35f": {
     "model_module": "@jupyter-widgets/controls",
     "model_module_version": "1.5.0",
     "model_name": "DescriptionStyleModel",
     "state": {
      "_model_module": "@jupyter-widgets/controls",
      "_model_module_version": "1.5.0",
      "_model_name": "DescriptionStyleModel",
      "_view_count": null,
      "_view_module": "@jupyter-widgets/base",
      "_view_module_version": "1.2.0",
      "_view_name": "StyleView",
      "description_width": ""
     }
    },
    "50ddb109a25f48b6ba4552961a3ffcea": {
     "model_module": "@jupyter-widgets/base",
     "model_module_version": "1.2.0",
     "model_name": "LayoutModel",
     "state": {
      "_model_module": "@jupyter-widgets/base",
      "_model_module_version": "1.2.0",
      "_model_name": "LayoutModel",
      "_view_count": null,
      "_view_module": "@jupyter-widgets/base",
      "_view_module_version": "1.2.0",
      "_view_name": "LayoutView",
      "align_content": null,
      "align_items": null,
      "align_self": null,
      "border": null,
      "bottom": null,
      "display": null,
      "flex": null,
      "flex_flow": null,
      "grid_area": null,
      "grid_auto_columns": null,
      "grid_auto_flow": null,
      "grid_auto_rows": null,
      "grid_column": null,
      "grid_gap": null,
      "grid_row": null,
      "grid_template_areas": null,
      "grid_template_columns": null,
      "grid_template_rows": null,
      "height": null,
      "justify_content": null,
      "justify_items": null,
      "left": null,
      "margin": null,
      "max_height": null,
      "max_width": null,
      "min_height": null,
      "min_width": null,
      "object_fit": null,
      "object_position": null,
      "order": null,
      "overflow": null,
      "overflow_x": null,
      "overflow_y": null,
      "padding": null,
      "right": null,
      "top": null,
      "visibility": null,
      "width": null
     }
    },
    "570684992ad74258b26bf7d184fc58a4": {
     "model_module": "@jupyter-widgets/controls",
     "model_module_version": "1.5.0",
     "model_name": "DescriptionStyleModel",
     "state": {
      "_model_module": "@jupyter-widgets/controls",
      "_model_module_version": "1.5.0",
      "_model_name": "DescriptionStyleModel",
      "_view_count": null,
      "_view_module": "@jupyter-widgets/base",
      "_view_module_version": "1.2.0",
      "_view_name": "StyleView",
      "description_width": ""
     }
    },
    "57113c456e9c4e2f9861c84dcf82a36f": {
     "model_module": "@jupyter-widgets/controls",
     "model_module_version": "1.5.0",
     "model_name": "TextModel",
     "state": {
      "_dom_classes": [],
      "_model_module": "@jupyter-widgets/controls",
      "_model_module_version": "1.5.0",
      "_model_name": "TextModel",
      "_view_count": null,
      "_view_module": "@jupyter-widgets/controls",
      "_view_module_version": "1.5.0",
      "_view_name": "TextView",
      "continuous_update": true,
      "description": "String:",
      "description_tooltip": null,
      "disabled": false,
      "layout": "IPY_MODEL_95999653a3064767a3a9ce57ef19d296",
      "placeholder": "Type something",
      "style": "IPY_MODEL_8e3782741ae0422a9fd66e2711338f59",
      "value": "1,1"
     }
    },
    "6eb2ccba72a3433390c40918ac0b97e8": {
     "model_module": "@jupyter-widgets/controls",
     "model_module_version": "1.5.0",
     "model_name": "ButtonModel",
     "state": {
      "_dom_classes": [],
      "_model_module": "@jupyter-widgets/controls",
      "_model_module_version": "1.5.0",
      "_model_name": "ButtonModel",
      "_view_count": null,
      "_view_module": "@jupyter-widgets/controls",
      "_view_module_version": "1.5.0",
      "_view_name": "ButtonView",
      "button_style": "info",
      "description": "Click me",
      "disabled": false,
      "icon": "check",
      "layout": "IPY_MODEL_87418d39a12d4eccb241f9de94ffa784",
      "style": "IPY_MODEL_a278d9ff23544f1185bca9108fcd3bf4",
      "tooltip": "Click me"
     }
    },
    "70f883c4e92b401d89eb9aa1e3b180ca": {
     "model_module": "@jupyter-widgets/controls",
     "model_module_version": "1.5.0",
     "model_name": "DescriptionStyleModel",
     "state": {
      "_model_module": "@jupyter-widgets/controls",
      "_model_module_version": "1.5.0",
      "_model_name": "DescriptionStyleModel",
      "_view_count": null,
      "_view_module": "@jupyter-widgets/base",
      "_view_module_version": "1.2.0",
      "_view_name": "StyleView",
      "description_width": ""
     }
    },
    "77f1d48687f24ab59b155e372cd6f4b4": {
     "model_module": "@jupyter-widgets/controls",
     "model_module_version": "1.5.0",
     "model_name": "TextModel",
     "state": {
      "_dom_classes": [],
      "_model_module": "@jupyter-widgets/controls",
      "_model_module_version": "1.5.0",
      "_model_name": "TextModel",
      "_view_count": null,
      "_view_module": "@jupyter-widgets/controls",
      "_view_module_version": "1.5.0",
      "_view_name": "TextView",
      "continuous_update": true,
      "description": "String:",
      "description_tooltip": null,
      "disabled": false,
      "layout": "IPY_MODEL_e52170684f6e4f38bd0e4ec0843db9c6",
      "placeholder": "Type something",
      "style": "IPY_MODEL_b397607273db4961a8c8bcf41f7b3493",
      "value": "1,1"
     }
    },
    "7aa2eb62a0ae4c2b888b97846b43215e": {
     "model_module": "@jupyter-widgets/controls",
     "model_module_version": "1.5.0",
     "model_name": "TextModel",
     "state": {
      "_dom_classes": [],
      "_model_module": "@jupyter-widgets/controls",
      "_model_module_version": "1.5.0",
      "_model_name": "TextModel",
      "_view_count": null,
      "_view_module": "@jupyter-widgets/controls",
      "_view_module_version": "1.5.0",
      "_view_name": "TextView",
      "continuous_update": true,
      "description": "String:",
      "description_tooltip": null,
      "disabled": false,
      "layout": "IPY_MODEL_0180757874d046aca96375545bfdc17b",
      "placeholder": "Type something",
      "style": "IPY_MODEL_34ded79df35c45d09656adb630ec55df",
      "value": "1,1"
     }
    },
    "87418d39a12d4eccb241f9de94ffa784": {
     "model_module": "@jupyter-widgets/base",
     "model_module_version": "1.2.0",
     "model_name": "LayoutModel",
     "state": {
      "_model_module": "@jupyter-widgets/base",
      "_model_module_version": "1.2.0",
      "_model_name": "LayoutModel",
      "_view_count": null,
      "_view_module": "@jupyter-widgets/base",
      "_view_module_version": "1.2.0",
      "_view_name": "LayoutView",
      "align_content": null,
      "align_items": null,
      "align_self": null,
      "border": null,
      "bottom": null,
      "display": null,
      "flex": null,
      "flex_flow": null,
      "grid_area": null,
      "grid_auto_columns": null,
      "grid_auto_flow": null,
      "grid_auto_rows": null,
      "grid_column": null,
      "grid_gap": null,
      "grid_row": null,
      "grid_template_areas": null,
      "grid_template_columns": null,
      "grid_template_rows": null,
      "height": null,
      "justify_content": null,
      "justify_items": null,
      "left": null,
      "margin": null,
      "max_height": null,
      "max_width": null,
      "min_height": null,
      "min_width": null,
      "object_fit": null,
      "object_position": null,
      "order": null,
      "overflow": null,
      "overflow_x": null,
      "overflow_y": null,
      "padding": null,
      "right": null,
      "top": null,
      "visibility": null,
      "width": null
     }
    },
    "927421f3725547b18541a0e9f6c8c865": {
     "model_module": "@jupyter-widgets/controls",
     "model_module_version": "1.5.0",
     "model_name": "DescriptionStyleModel",
     "state": {
      "_model_module": "@jupyter-widgets/controls",
      "_model_module_version": "1.5.0",
      "_model_name": "DescriptionStyleModel",
      "_view_count": null,
      "_view_module": "@jupyter-widgets/base",
      "_view_module_version": "1.2.0",
      "_view_name": "StyleView",
      "description_width": ""
     }
    },
    "a278d9ff23544f1185bca9108fcd3bf4": {
     "model_module": "@jupyter-widgets/controls",
     "model_module_version": "1.5.0",
     "model_name": "ButtonStyleModel",
     "state": {
      "_model_module": "@jupyter-widgets/controls",
      "_model_module_version": "1.5.0",
      "_model_name": "ButtonStyleModel",
      "_view_count": null,
      "_view_module": "@jupyter-widgets/base",
      "_view_module_version": "1.2.0",
      "_view_name": "StyleView",
      "button_color": null,
      "font_weight": ""
     }
    },
    "b397607273db4961a8c8bcf41f7b3493": {
     "model_module": "@jupyter-widgets/controls",
     "model_module_version": "1.5.0",
     "model_name": "DescriptionStyleModel",
     "state": {
      "_model_module": "@jupyter-widgets/controls",
      "_model_module_version": "1.5.0",
      "_model_name": "DescriptionStyleModel",
      "_view_count": null,
      "_view_module": "@jupyter-widgets/base",
      "_view_module_version": "1.2.0",
      "_view_name": "StyleView",
      "description_width": ""
     }
    },
    "b475392513e64e32b1689ccd6b0a331c": {
     "model_module": "@jupyter-widgets/controls",
     "model_module_version": "1.5.0",
     "model_name": "DescriptionStyleModel",
     "state": {
      "_model_module": "@jupyter-widgets/controls",
      "_model_module_version": "1.5.0",
      "_model_name": "DescriptionStyleModel",
      "_view_count": null,
      "_view_module": "@jupyter-widgets/base",
      "_view_module_version": "1.2.0",
      "_view_name": "StyleView",
      "description_width": ""
     }
    },
    "bba54ec4feeb416cb892b0af7679305b": {
     "model_module": "@jupyter-widgets/base",
     "model_module_version": "1.2.0",
     "model_name": "LayoutModel",
     "state": {
      "_model_module": "@jupyter-widgets/base",
      "_model_module_version": "1.2.0",
      "_model_name": "LayoutModel",
      "_view_count": null,
      "_view_module": "@jupyter-widgets/base",
      "_view_module_version": "1.2.0",
      "_view_name": "LayoutView",
      "align_content": null,
      "align_items": null,
      "align_self": null,
      "border": null,
      "bottom": null,
      "display": null,
      "flex": null,
      "flex_flow": null,
      "grid_area": null,
      "grid_auto_columns": null,
      "grid_auto_flow": null,
      "grid_auto_rows": null,
      "grid_column": null,
      "grid_gap": null,
      "grid_row": null,
      "grid_template_areas": null,
      "grid_template_columns": null,
      "grid_template_rows": null,
      "height": null,
      "justify_content": null,
      "justify_items": null,
      "left": null,
      "margin": null,
      "max_height": null,
      "max_width": null,
      "min_height": null,
      "min_width": null,
      "object_fit": null,
      "object_position": null,
      "order": null,
      "overflow": null,
      "overflow_x": null,
      "overflow_y": null,
      "padding": null,
      "right": null,
      "top": null,
      "visibility": null,
      "width": null
     }
    },
    "c46660f3cc1a40118d153be26f5987d4": {
     "model_module": "@jupyter-widgets/controls",
     "model_module_version": "1.5.0",
     "model_name": "TextModel",
     "state": {
      "_dom_classes": [],
      "_model_module": "@jupyter-widgets/controls",
      "_model_module_version": "1.5.0",
      "_model_name": "TextModel",
      "_view_count": null,
      "_view_module": "@jupyter-widgets/controls",
      "_view_module_version": "1.5.0",
      "_view_name": "TextView",
      "continuous_update": true,
      "description": "String:",
      "description_tooltip": null,
      "disabled": false,
      "layout": "IPY_MODEL_35d49f9f347a490ba6b90457519fc257",
      "placeholder": "Type something",
      "style": "IPY_MODEL_491d30977d2a4ac4bd0bf40a6cebb35f",
      "value": "1,1"
     }
    },
    "e52170684f6e4f38bd0e4ec0843db9c6": {
     "model_module": "@jupyter-widgets/base",
     "model_module_version": "1.2.0",
     "model_name": "LayoutModel",
     "state": {
      "_model_module": "@jupyter-widgets/base",
      "_model_module_version": "1.2.0",
      "_model_name": "LayoutModel",
      "_view_count": null,
      "_view_module": "@jupyter-widgets/base",
      "_view_module_version": "1.2.0",
      "_view_name": "LayoutView",
      "align_content": null,
      "align_items": null,
      "align_self": null,
      "border": null,
      "bottom": null,
      "display": null,
      "flex": null,
      "flex_flow": null,
      "grid_area": null,
      "grid_auto_columns": null,
      "grid_auto_flow": null,
      "grid_auto_rows": null,
      "grid_column": null,
      "grid_gap": null,
      "grid_row": null,
      "grid_template_areas": null,
      "grid_template_columns": null,
      "grid_template_rows": null,
      "height": null,
      "justify_content": null,
      "justify_items": null,
      "left": null,
      "margin": null,
      "max_height": null,
      "max_width": null,
      "min_height": null,
      "min_width": null,
      "object_fit": null,
      "object_position": null,
      "order": null,
      "overflow": null,
      "overflow_x": null,
      "overflow_y": null,
      "padding": null,
      "right": null,
      "top": null,
      "visibility": null,
      "width": null
     }
    },
    "e68a98b27d4340e09e11affd991c5f89": {
     "model_module": "@jupyter-widgets/controls",
     "model_module_version": "1.5.0",
     "model_name": "DescriptionStyleModel",
     "state": {
      "_model_module": "@jupyter-widgets/controls",
      "_model_module_version": "1.5.0",
      "_model_name": "DescriptionStyleModel",
      "_view_count": null,
      "_view_module": "@jupyter-widgets/base",
      "_view_module_version": "1.2.0",
      "_view_name": "StyleView",
      "description_width": ""
     }
    },
    "e830b8347cbf463890b8af10c8339b6e": {
     "model_module": "@jupyter-widgets/controls",
     "model_module_version": "1.5.0",
     "model_name": "TextModel",
     "state": {
      "_dom_classes": [],
      "_model_module": "@jupyter-widgets/controls",
      "_model_module_version": "1.5.0",
      "_model_name": "TextModel",
      "_view_count": null,
      "_view_module": "@jupyter-widgets/controls",
      "_view_module_version": "1.5.0",
      "_view_name": "TextView",
      "continuous_update": true,
      "description": "String:",
      "description_tooltip": null,
      "disabled": false,
      "layout": "IPY_MODEL_0a5c89a522d047bea3ad66dba331b388",
      "placeholder": "Type something",
      "style": "IPY_MODEL_570684992ad74258b26bf7d184fc58a4",
      "value": "1,1"
     }
    }
   }
  }
 },
 "nbformat": 4,
 "nbformat_minor": 0
}
