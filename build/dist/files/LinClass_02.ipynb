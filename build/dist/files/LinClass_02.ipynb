{
  "nbformat": 4,
  "nbformat_minor": 0,
  "metadata": {
    "colab": {
      "provenance": [],
      "authorship_tag": "ABX9TyPIVaIPX8OOkZq+hKfGnHUn",
      "include_colab_link": true
    },
    "kernelspec": {
      "name": "python3",
      "display_name": "Python 3"
    },
    "language_info": {
      "name": "python"
    }
  },
  "cells": [
    {
      "cell_type": "markdown",
      "metadata": {
        "id": "view-in-github",
        "colab_type": "text"
      },
      "source": [
        "<a href=\"https://colab.research.google.com/github/ollihansen90/linclassifiers/blob/main/Futureskills/LinClass_02.ipynb\" target=\"_parent\"><img src=\"https://colab.research.google.com/assets/colab-badge.svg\" alt=\"Open In Colab\"/></a>"
      ]
    },
    {
      "cell_type": "markdown",
      "source": [
        "# Lineare Klassifizierer\n",
        "## Kapitel 2 - Daten und Koordinatensysteme\n",
        "In diesem Notebook möchten wir verstehen, wie mit Python Punkte in Koordinatensystem eingezeichnet werden. Ganz nebenbei lernen wir Jupyter-Notebooks kennen, denen wir in unserem Kurs noch öfter begegnen werden.\n",
        "\n",
        "Ein Jupyter Notebook ist eine interaktive Umgebung für die Programmierung und Datenanalyse, die oft in den Bereichen wissenschaftliches Rechnen, Datenanalyse und maschinelles Lernen verwendet wird. Es ermöglicht Benutzern, sowohl Code (normalerweise in Python, kann aber auch in anderen Programmiersprachen sein) als auch Text und Visualisierungen in einem einzigen Dokument zu kombinieren.\n",
        "\n",
        "### Aufgabe 1: Codeblöcke ausführen\n",
        "In dieser Aufgabe soll nur der untenstehende Codeblock ausgeführt werden.\n",
        "\n",
        "In dem Code wurde zunächst eine Datenmatrix `data` definiert, in denen die Punkte stehen, die in die Abbildung eingezeichnet (geplottet) werden sollen. Ein Punkt besteht hier aus drei Werten `[x, y, s]` mit den Koordinaten `x` und `y`, sowie einer Klassenzugehörigkeit `s`. Die Klassenzugehörigkeit ist hier `0` oder `1` und wird lediglich zur farblichen Zuordnung und könnte ebenso in einer neuen Liste gespeichert werden.\n",
        "\n",
        "Einen Codeblock kann man ausführen, indem man links oben auf den \"Play-Button\" klickt. Ebenso kann, wenn der Cursor im Codeblock steht, die Tastenkombination **STRG**+**ENTER** genutzt werden. Nach dem Ausführen sollte eine Abbildung mit blauen und orangenen Punkten erscheinen.\n",
        "\n",
        "*Hinweis:* Das erste Ausführen dauert für gewöhnlich etwas länger als die nachfolgenden, da zunächst die Bibliotheken geladen werden müssen. Spätestens beim zweiten Ausführen sollte alles schneller gehen."
      ],
      "metadata": {
        "id": "M2ryASLkNk29"
      }
    },
    {
      "cell_type": "code",
      "execution_count": null,
      "metadata": {
        "id": "u0UmIzbKJWtW"
      },
      "outputs": [],
      "source": [
        "# Programmbibliotheken importierten\n",
        "import numpy as np              # Numerical Python zum Rechnen mit Matrizen\n",
        "import matplotlib.pyplot as plt # Matplotlib zum darstellen von Abbildungen\n",
        "\n",
        "# Daten\n",
        "data = np.array([\n",
        "    [  0,    0, 1],\n",
        "    [  1,    0, 1],\n",
        "    [  2,    0, 0],\n",
        "    [  3,   -1, 0],\n",
        "    [  1,    2, 1],\n",
        "    [0.5,  1.5, 0],\n",
        "    [  2,    1, 0],\n",
        "    [2.5,  0.5, 0],\n",
        "    [0.5, -0.5, 1],\n",
        "    [  1,   -1, 0],\n",
        "    [  2,    2, 1],\n",
        "])\n",
        "\n",
        "# Abbildung erstellen\n",
        "plt.figure()\n",
        "plt.scatter(data[data[:,-1]==0,0], data[data[:,-1]==0,1])\n",
        "plt.scatter(data[data[:,-1]==1,0], data[data[:,-1]==1,1])\n",
        "plt.xlabel(\"x\");plt.ylabel(\"y\") # Achsenbeschriftung\n",
        "plt.grid()\n",
        "plt.show()"
      ]
    },
    {
      "cell_type": "markdown",
      "source": [
        "### Aufgabe 2: Punkte hinzufügen\n",
        "In dieser Aufgabe sollen Punkte zur bereits bestehenden Matrix `data` hinzugefügt werden.\n",
        "\n",
        "Erstellen Sie einen Punkt der Klasse `0` an der Stelle `[2, -0.5]`, sowie einen Punkt der Klasse `1` an der Stelle `[1, -1]`. Erstellen Sie außerdem einen beliebigen weiteren Punkt mit beliebiger Klasse `0` oder `1`.\n",
        "\n",
        "**Achtung:** Damit der folgende Codeblock funktioniert, muss zunächst der vorherige Codeblock ein mal ausgeführt werden. Andernfalls existieren die beiden Bibliotheken `numpy` und `matplotlib` nicht!\n",
        "\n",
        "<details>\n",
        "  <summary>Lösungshinweis</summary>\n",
        "   Die Matrix `data` soll hier um drei Zeilen erweitert werden. Ähnlich wie die anderen Zeilen der Matrix enthalten die Zeilen drei Werte. Wichtig ist, dass jeweils im letzten Eintrag entweder eine 0 oder eine 1 steht. Andernfalls werden die Punkte nicht angezeigt.\n",
        "</details>\n"
      ],
      "metadata": {
        "id": "5SMHtplcN2l3"
      }
    },
    {
      "cell_type": "code",
      "source": [
        "data = np.array([\n",
        "    [  0,    0, 1],\n",
        "    [  1,    0, 1],\n",
        "    [  2,    0, 0],\n",
        "    [  3,   -1, 0],\n",
        "    [  1,    2, 1],\n",
        "    [0.5,  1.5, 0],\n",
        "    [  2,    1, 0],\n",
        "    [2.5,  0.5, 0],\n",
        "    [0.5, -0.5, 1],\n",
        "    [  1,   -1, 0],\n",
        "    [  2,    2, 1],\n",
        "])\n",
        "\n",
        "plt.figure()\n",
        "plt.scatter(data[data[:,-1]==0,0], data[data[:,-1]==0,1])\n",
        "plt.scatter(data[data[:,-1]==1,0], data[data[:,-1]==1,1])\n",
        "plt.xlabel(\"x\");plt.ylabel(\"y\")\n",
        "plt.grid()\n",
        "plt.show()"
      ],
      "metadata": {
        "id": "pV_upSENN2wG"
      },
      "execution_count": null,
      "outputs": []
    },
    {
      "cell_type": "markdown",
      "source": [
        "### Aufgabe 3: Klassenzugehörigkeit ändern\n",
        "In dieser Aufgabe soll die Klassenzugehörigkeit eines bestimmten Punktes geändert werden.\n",
        "\n",
        "Möchte man ein Lineal in die Abbildung legen, sodass alle blauen Punkte auf der einen und alle orangenen Punkte auf der anderen Seite des Lineals liegen, so stellt man schnell fest, dass das nicht möglich ist.\n",
        "\n",
        "Finden Sie den Punkt, der auf der falschen Seite des Lineals liegt, und ändern Sie die Klassenzugehörigkeit, sodass das Lineal die beiden Klassen korrekt trennt.\n",
        "\n",
        "<details>\n",
        "  <summary>Lösungshinweis</summary>\n",
        "   Gesucht ist der blaue Punkt links oben in der Abbildung. Lesen Sie die Koordinaten ab und suchen Sie die korrekte Zeile in der Matrix `data`. Ändern Sie anschließend die Klassenzugehörigkeit von `0` zu `1`.\n",
        "</details>"
      ],
      "metadata": {
        "id": "69osnDkSN3J-"
      }
    },
    {
      "cell_type": "code",
      "source": [
        "data = np.array([\n",
        "    [  0,    0, 1],\n",
        "    [  1,    0, 1],\n",
        "    [  2,    0, 0],\n",
        "    [  3,   -1, 0],\n",
        "    [  1,    2, 1],\n",
        "    [0.5,  1.5, 0],\n",
        "    [  2,    1, 0],\n",
        "    [2.5,  0.5, 0],\n",
        "    [0.5, -0.5, 1],\n",
        "    [  1,   -1, 0],\n",
        "    [  2,    2, 1],\n",
        "])\n",
        "\n",
        "plt.figure()\n",
        "plt.scatter(data[data[:,-1]==0,0], data[data[:,-1]==0,1])\n",
        "plt.scatter(data[data[:,-1]==1,0], data[data[:,-1]==1,1])\n",
        "plt.xlabel(\"x\");plt.ylabel(\"y\")\n",
        "plt.grid()\n",
        "plt.show()"
      ],
      "metadata": {
        "id": "Ypu_FnwRN3RO"
      },
      "execution_count": null,
      "outputs": []
    }
  ]
}