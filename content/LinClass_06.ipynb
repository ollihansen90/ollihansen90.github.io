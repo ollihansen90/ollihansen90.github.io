{
 "cells": [
  {
   "cell_type": "markdown",
   "metadata": {
    "colab_type": "text",
    "id": "view-in-github"
   },
   "source": [
    "<a href=\"https://colab.research.google.com/github/ollihansen90/linclassifiers/blob/main/Futureskills/LinClass_06.ipynb\" target=\"_parent\"><img src=\"https://colab.research.google.com/assets/colab-badge.svg\" alt=\"Open In Colab\"/></a>"
   ]
  },
  {
   "cell_type": "markdown",
   "metadata": {
    "id": "QbPcHvliKy3j"
   },
   "source": [
    "# Kapitel 6 - Normalenform und Normalenvektor\n",
    "## Setup"
   ]
  },
  {
   "cell_type": "code",
   "execution_count": null,
   "metadata": {
    "id": "TVW6vXBRKsiq"
   },
   "outputs": [],
   "source": [
    "# Dieser Block entfällt im Jupyter-Hub, weil die Daten schon auf dem Server liegt\n",
    "!wget -nc -q https://raw.githubusercontent.com/ollihansen90/linclassifiers/main/Futureskills/utils/utils.py"
   ]
  },
  {
   "cell_type": "code",
   "execution_count": null,
   "metadata": {},
   "outputs": [],
   "source": [
    "import numpy as np\n",
    "import matplotlib.pyplot as plt\n",
    "import matplotlib.colors as mcolors\n",
    "from time import sleep\n",
    "\n",
    "from IPython.display import clear_output\n",
    "from utils import Koordinatensystem, Vektorfolge, Gerade"
   ]
  },
  {
   "cell_type": "markdown",
   "metadata": {
    "id": "k37ljquukg-X"
   },
   "source": [
    "## Aufgabe 1: Gerade ablesen\n",
    "In der folgenden Aufgabe soll das Aufstellen von Geraden in Normalenform geübt werden. Gegeben sind zwei Punkte `[-2,7]` und `[3,6]`. Gesucht sind Aufpunkt und Normalenvektor, sodass die sich daraus ergebende Gerade durch die beiden Punkte verläuft."
   ]
  },
  {
   "cell_type": "code",
   "execution_count": null,
   "metadata": {
    "id": "irYPMYJdk6RU"
   },
   "outputs": [],
   "source": [
    "def draw(aufpunkt=np.zeros(2), normal=np.array([-1,1]), first=False):\n",
    "    data = np.array([[3,6],[-2,7]])\n",
    "\n",
    "    size = 11\n",
    "    config = {\"size\": size}\n",
    "    koordinatensystem = Koordinatensystem(config)\n",
    "    vec = Vektorfolge([aufpunkt, normal], list(mcolors.TABLEAU_COLORS.keys())[2:0:-1])\n",
    "    gerade = Gerade(aufpunkt, normal[::-1]*np.array([1,-1]))\n",
    "\n",
    "    plt.figure(figsize=[7,7])\n",
    "    koordinatensystem.draw()\n",
    "    if not first:\n",
    "        gerade.draw()\n",
    "        vec.draw()\n",
    "    plt.plot(data[:,0], data[:,1], \"ro\", markersize=5)\n",
    "    plt.axis(\"equal\");plt.xlim([-size,size]);plt.ylim([-size,size]);plt.axis(\"off\")\n",
    "    plt.show()\n",
    "    #print(data)\n",
    "    if not first:\n",
    "        if gerade.on_gerade(data[0]) and gerade.on_gerade(data[1]):\n",
    "            print(f\"Sehr gut!  Aufpunkt [{aufpunkt[0]},{aufpunkt[1]}] und  Richtungsvektor [{normal[0]},{normal[1]}] sind korrekt!\")\n",
    "            return True\n",
    "        else:\n",
    "            print(f\"Das stimmt leider noch nicht... Aufpunkt [{aufpunkt[0]},{aufpunkt[1]}] und Richtungsvektor [{normal[0]},{normal[1]}] sind nicht richtig.\")\n",
    "            return False\n",
    "\n",
    "draw(first=True)\n",
    "\n",
    "done = False\n",
    "while not done:\n",
    "    print(\"Geben Sie einen Aufpunkt ein. (Zum Beispiel 1,-1)\")\n",
    "    sleep(0.1)\n",
    "    test = input(\"Aufpunkt: \")\n",
    "    aufpunkt = np.array([float(s) for s in test.split(\",\")])\n",
    "    print(\"Geben Sie einen Normalenvektor ein. (Zum Beispiel 1,-1)\")\n",
    "    sleep(0.1)\n",
    "    test = input(\"Normalenvektor: \")\n",
    "    normal = np.array([float(s) for s in test.split(\",\")])\n",
    "\n",
    "    clear_output()\n",
    "    done = draw(aufpunkt, normal)\n"
   ]
  }
 ],
 "metadata": {
  "colab": {
   "authorship_tag": "ABX9TyMs6YJx9aCVJlI6PNbIZZoE",
   "include_colab_link": true,
   "provenance": []
  },
  "kernelspec": {
   "display_name": "Python 3",
   "name": "python3"
  },
  "language_info": {
   "name": "python"
  }
 },
 "nbformat": 4,
 "nbformat_minor": 0
}
