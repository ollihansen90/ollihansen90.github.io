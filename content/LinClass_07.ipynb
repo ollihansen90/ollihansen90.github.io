{
 "cells": [
  {
   "cell_type": "markdown",
   "metadata": {
    "colab_type": "text",
    "id": "view-in-github"
   },
   "source": [
    "<a href=\"https://colab.research.google.com/github/ollihansen90/linclassifiers/blob/main/Futureskills/LinClass_07.ipynb\" target=\"_parent\"><img src=\"https://colab.research.google.com/assets/colab-badge.svg\" alt=\"Open In Colab\"/></a>"
   ]
  },
  {
   "cell_type": "markdown",
   "metadata": {
    "id": "QbPcHvliKy3j"
   },
   "source": [
    "# Kapitel 7 - Lineare Klassifikation\n",
    "\n",
    "## Setup"
   ]
  },
  {
   "cell_type": "code",
   "execution_count": null,
   "metadata": {
    "id": "TVW6vXBRKsiq"
   },
   "outputs": [],
   "source": [
    "# Dieser Block entfällt im Jupyter-Hub, weil die Daten schon auf dem Server liegt\n",
    "!wget -nc -q https://raw.githubusercontent.com/ollihansen90/linclassifiers/main/Futureskills/utils/utils.py\n",
    "!wget -nc -q https://raw.githubusercontent.com/ollihansen90/linclassifiers/main/Futureskills/utils/utils_linclass_07.py"
   ]
  },
  {
   "cell_type": "code",
   "execution_count": null,
   "metadata": {
    "id": "5EcUHCCDL3L6"
   },
   "outputs": [],
   "source": [
    "import numpy as np\n",
    "from IPython.display import clear_output\n",
    "from time import sleep\n",
    "\n",
    "from utils_linclass_07 import draw1, draw2"
   ]
  },
  {
   "cell_type": "markdown",
   "metadata": {
    "id": "yknOyupBuRn2"
   },
   "source": [
    "In diesem Notebook soll das erworbene Wissen aus Kapitel 7 angewendet werden.\n",
    "\n",
    "## Aufgabe 1 - Gerade durch zwei Punkte\n",
    "Gegeben sind zwei Punkte, durch die eine Gerade verlaufen soll. Die Gerade hat die Form $g(\\vec{x})=\\vec{w}\\odot\\vec{x}-\\theta$ mit Gewichtsvektor $\\vec{w}$ und Schwellenwert $\\theta$.\n",
    "\n",
    "Starten Sie den folgenden Codeblock und geben Sie einen Gewichtsvektor, sowie einen Schwellenwert ein. Ein Vektor wird hierbei komponentenweise mit Komma getrennt eingegeben. Der Vektor $\\vec{x}=[1,-1]$ wäre beispielsweise `1,-1`. Beim Threshold handelt es sich nur um eine einzelne Zahl. Zahlen mit Nachkommastellen müssen mit Punkt geschrieben werden (statt beispielsweise `-2,3` ist die Eingabe `-2.3`)."
   ]
  },
  {
   "cell_type": "code",
   "execution_count": null,
   "metadata": {
    "id": "bQWMuQjguTab"
   },
   "outputs": [],
   "source": [
    "draw1(first=True)\n",
    "\n",
    "done = False\n",
    "while not done:\n",
    "    print(\"Geben Sie einen Gewichtsvektor ein. (Zum Beispiel 1,-1)\")\n",
    "    sleep(0.1)\n",
    "    test = input(\"Gewichtsvektor: \")\n",
    "    gewichtsvektor = np.array([float(s) for s in test.split(\",\")])\n",
    "    print(\"Geben Sie einen Schwellenwert ein. (Zum Beispiel -0.5)\")\n",
    "    sleep(0.1)\n",
    "    test = input(\"Schwellenwert: \")\n",
    "    theta = float(test)\n",
    "\n",
    "    clear_output()\n",
    "    done = draw1(gewichtsvektor, theta)\n"
   ]
  },
  {
   "cell_type": "markdown",
   "metadata": {
    "id": "qL3yDnPOUbip"
   },
   "source": [
    "## Aufgabe 2: Punktewolken\n",
    "Genau wie in Aufgabe 1 soll hier eine Gerade in der Form $g(\\vec{x})=\\vec{w}\\odot\\vec{x}-\\theta$ mit Gewichtsvektor $\\vec{w}$ und Schwellenwert $\\theta$ aufgestellt werden. Gegeben werden zwei Punktewolken, die linear getrennt werden sollen. Die blaue Punktewolke soll die Klassenzugehörigkeit `+1` bekommen, die orangene Punktewolke erhält Klassenzugehörigkeit `-1`.\n",
    "\n",
    "Starten Sie den folgenden Codeblock und geben Sie einen Gewichtsvektor, sowie einen Schwellenwert ein. Ein Vektor wird hierbei komponentenweise mit Komma getrennt eingegeben. Der Vektor $\\vec{x}=[1,-1]$ wäre beispielsweise `1,-1`. Beim Threshold handelt es sich nur um eine einzelne Zahl. Zahlen mit Nachkommastellen müssen mit Punkt geschrieben werden (statt beispielsweise `-2,3` ist die Eingabe `-2.3`)."
   ]
  },
  {
   "cell_type": "code",
   "execution_count": null,
   "metadata": {
    "id": "XGcjTENQUasT"
   },
   "outputs": [],
   "source": [
    "draw2(first=True)\n",
    "\n",
    "done = False\n",
    "while not done:\n",
    "    print(\"Geben Sie einen Gewichtsvektor ein. (Zum Beispiel 1,-1)\")\n",
    "    sleep(0.1)\n",
    "    test = input(\"Gewichtsvektor: \")\n",
    "    gewichtsvektor = np.array([float(s) for s in test.split(\",\")])\n",
    "    print(\"Geben Sie einen Schwellenwert ein. (Zum Beispiel -0.5)\")\n",
    "    sleep(0.1)\n",
    "    test = input(\"Schwellenwert: \")\n",
    "    theta = float(test)\n",
    "\n",
    "    clear_output()\n",
    "    done = draw2(gewichtsvektor, theta)\n"
   ]
  }
 ],
 "metadata": {
  "colab": {
   "authorship_tag": "ABX9TyNTDS4t8QQ7CXaLA7Y7Uyrg",
   "include_colab_link": true,
   "provenance": []
  },
  "kernelspec": {
   "display_name": "Python 3",
   "name": "python3"
  },
  "language_info": {
   "name": "python"
  }
 },
 "nbformat": 4,
 "nbformat_minor": 0
}
