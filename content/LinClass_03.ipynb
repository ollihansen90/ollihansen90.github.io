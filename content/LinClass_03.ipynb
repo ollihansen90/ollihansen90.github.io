{
 "cells": [
  {
   "cell_type": "markdown",
   "metadata": {
    "colab_type": "text",
    "id": "view-in-github"
   },
   "source": [
    "<a href=\"https://colab.research.google.com/github/ollihansen90/linclassifiers/blob/main/Futureskills/LinClass_03.ipynb\" target=\"_parent\"><img src=\"https://colab.research.google.com/assets/colab-badge.svg\" alt=\"Open In Colab\"/></a>"
   ]
  },
  {
   "cell_type": "markdown",
   "metadata": {
    "id": "tC97v5TsW40F"
   },
   "source": [
    "# Lineare Klassifizierer\n",
    "## Kapitel 3 - Vektoren\n",
    "Dieses Notebook befasst sich mit der Vektoraddition und der Skalarmultiplikation.\n",
    "\n",
    "Wie in dem Video bereits beschrieben wurde, handelt es sich bei Vektoren um mathematische Objekte, die eine Größe und eine Richtung haben. In der linearen Algebra wird ein Vektor oft als geordnete Liste von Zahlen dargestellt und in einem Koordinatensystem visualisiert.\n",
    "\n",
    "### Aufgabe 1: Vektoren einzeichnen\n",
    "Die oben genannte Visualisierung wollen wir im folgenden Codeblock durchführen. Im Code wurden zwei Vektoren `a = np.array([1,3])` und `b = np.array([2,-1])`, sowie der Vektor `c` als Addition von `a` und `b`, und der Vektor `d` als Vielfaches von `b` definiert. Sehen Sie sich genau an, wie `c` und `d` berechnet werden und führen Sie den Codeblock aus.\n",
    "\n",
    "Es ist gut zu erkennen, wie der Vektor `c` (hier in Grün) als Summe von `a` und `b` entsteht: Die beiden Vektoren werden lediglich aneinander gehängt und eine neuer Vektor entsteht! Offensichtlich ist die Reihenfolge der Summanden unwichtig: Wir können erst `a` und dann `b` \"entlanglaufen\" oder andersrum. Wir kommen jeweils zudem Punkt, auf den `c` zeigt.\n",
    "\n",
    "Der Vektor `d` ist das Doppelte von `b`. Sinnbildlich kann man sich das so vorstellen, als würden wir in Richtung `b` laufen und danach die gleiche Strecke nochmals \"hinten anhängen\". Rechnerisch ergibt das auch Sinn:\n",
    "$$2\\cdot\\vec{b}=\\vec{b}+\\vec{b}.$$\n"
   ]
  },
  {
   "cell_type": "code",
   "execution_count": null,
   "metadata": {
    "id": "YUFW2IhTW10X"
   },
   "outputs": [],
   "source": [
    "import numpy as np\n",
    "import matplotlib.pyplot as plt\n",
    "\n",
    "# Definition der Vektoren\n",
    "a = np.array([1,3])\n",
    "b = np.array([2,-1])\n",
    "c = a + b # Beispiel: Vektoraddition\n",
    "d = 2 * b # Beispiel: Skalarmultiplikation\n",
    "\n",
    "# Abbildung plotten\n",
    "config = {\"angles\":'xy', \"scale_units\":'xy', \"scale\":1, \"width\":0.005}\n",
    "plt.figure(figsize=[6,7])\n",
    "plt.quiver(0,0,*a, **config, color=\"tab:blue\")\n",
    "plt.quiver(*b,*a, **config, color=\"tab:blue\")\n",
    "plt.quiver(0,0,*d, **config, color=\"tab:red\")\n",
    "plt.quiver(0,0,*b, **config, color=\"tab:orange\")\n",
    "plt.quiver(*a,*b, **config, color=\"tab:orange\")\n",
    "plt.quiver(0,0,*c, **config, color=\"tab:green\")\n",
    "plt.axis(\"equal\"); plt.xlim([-1,4.5]); plt.ylim([-3,4]); plt.grid()\n",
    "plt.show()"
   ]
  },
  {
   "cell_type": "markdown",
   "metadata": {
    "id": "mK20CeOMejtN"
   },
   "source": [
    "### Aufgabe 2: Rechnen mit Vektoren\n",
    "In dieser Aufgabe sollen zwei gegebene Vektoren kombiniert werden, sodass ein neuer Vektor entsteht.\n",
    "\n",
    "Gegeben sind die beiden Vektoren `a = np.array([1,2])` und `b = np.array([1,-1])`. Definieren Sie drei Vektoren folgendermaßen:\n",
    "1. Vektor `c` ist das Negative von Vektor `a`.\n",
    "2. Vektor `d` ist die Hälfte von Vektor `b`.\n",
    "3. Vektor `e` ist die Summe von Vektor `c` und Vektor `d`.\n",
    "\n"
   ]
  },
  {
   "cell_type": "code",
   "execution_count": null,
   "metadata": {
    "id": "Y8LLJRmDekK9"
   },
   "outputs": [],
   "source": [
    "# Definition der Vektoren\n",
    "a = np.array([1,2])\n",
    "b = np.array([1,-1])\n",
    "c = \n",
    "d = \n",
    "e = \n",
    "\n",
    "# Abbildung plotten\n",
    "config = {\"angles\":'xy', \"scale_units\":'xy', \"scale\":1, \"width\":0.008}\n",
    "plt.figure(figsize=[4,7])\n",
    "plt.quiver(0,0,*a, **config, color=\"tab:blue\")\n",
    "plt.quiver(0,0,*b, **config, color=\"tab:orange\")\n",
    "plt.quiver(0,0,*c, **config, color=\"tab:green\")\n",
    "plt.quiver(0,0,*d, **config, color=\"tab:red\")\n",
    "plt.quiver(*d,*c, **config, color=\"tab:green\")\n",
    "plt.quiver(*c,*d, **config, color=\"tab:red\")\n",
    "plt.quiver(0,0,*e, **config, color=\"tab:purple\")\n",
    "plt.axis(\"scaled\"); plt.xlim([-1.5,1.5]); plt.ylim([-3,2.5]); plt.grid()\n",
    "plt.xlabel(\"x\");plt.ylabel(\"y\")\n",
    "plt.show()\n",
    "\n",
    "if np.sum(e-np.array([-0.5,-2.5])):\n",
    "    print(f\"Der berechnete Vektor e lautet [{e[0]},{e[1]}]. Die Lösung ist aber e=[-0.5,-2.5].\")\n",
    "else:\n",
    "    print(\"Es hat alles funktionert! Ausgezeichnet!\")"
   ]
  }
 ],
 "metadata": {
  "colab": {
   "authorship_tag": "ABX9TyPWE3289oSRN34hImj+6yUg",
   "include_colab_link": true,
   "provenance": []
  },
  "kernelspec": {
   "display_name": "Python 3",
   "name": "python3"
  },
  "language_info": {
   "name": "python"
  }
 },
 "nbformat": 4,
 "nbformat_minor": 0
}
