{
  "nbformat": 4,
  "nbformat_minor": 0,
  "metadata": {
    "colab": {
      "provenance": [],
      "authorship_tag": "ABX9TyOEP9fe5krDBpz0Bf5YuGkC",
      "include_colab_link": true
    },
    "kernelspec": {
      "name": "python3",
      "display_name": "Python 3"
    },
    "language_info": {
      "name": "python"
    }
  },
  "cells": [
    {
      "cell_type": "markdown",
      "metadata": {
        "id": "view-in-github",
        "colab_type": "text"
      },
      "source": [
        "<a href=\"https://colab.research.google.com/github/ollihansen90/linclassifiers/blob/main/Futureskills/LinClass_05.ipynb\" target=\"_parent\"><img src=\"https://colab.research.google.com/assets/colab-badge.svg\" alt=\"Open In Colab\"/></a>"
      ]
    },
    {
      "cell_type": "markdown",
      "source": [
        "# Kapitel 5 - Betrag eines Vektors\n",
        "In diesem Notebook soll es um den Winkel zwischen Vektoren gehen.\n",
        "\n",
        "## Aufgabe 1: Winkel\n",
        "In dieser Aufgabe soll ein Vektor gefunden werden, der orthogonal zum Vektor `[2,1]` ist. Hierfür kann der Vektor `v1` geändert werden.\n",
        "\n",
        "Zur Erinnerung: Zwei Vektoren $\\vec{a}$ und $\\vec{b}$ sind orthogonal, wenn das Skalarprodukt $\\langle\\vec{a},\\vec{b}\\rangle=0$ ist.\n",
        "\n",
        "<details>\n",
        "  <summary>Lösungshinweis</summary>\n",
        "   Im Zweidimensionalen lässt sich ein orthogonaler Vektor sehr einfach finden, indem die Komponenten getauscht und einer der Komponenten negiert wird. Ist Beispielsweise ein Vektor [-5,3] gegeben, so wäre ein orthogonaler Vektor [3,5].\n",
        "</details>"
      ],
      "metadata": {
        "id": "CYJhVhuGAlNw"
      }
    },
    {
      "cell_type": "code",
      "execution_count": null,
      "metadata": {
        "id": "1p6x5nP7_ysd"
      },
      "outputs": [],
      "source": [
        "import numpy as np\n",
        "import matplotlib.pyplot as plt\n",
        "\n",
        "# --- Hier Vektor v1 ändern ---\n",
        "v1 = np.array(\n",
        "    [1,2]\n",
        ")\n",
        "# -----------------------------\n",
        "\n",
        "v2 = np.array([2,1])\n",
        "assert np.linalg.norm(v1)>0, \"Der Nullvektor ist als Eingabe nicht erlaubt\"\n",
        "print(f\"Winkel: {round(np.arccos(v1/np.linalg.norm(v1)@v2/np.linalg.norm(v2))/np.pi*180, ndigits=2)}°\")\n",
        "config = {\"angles\":'xy', \"scale_units\":'xy', \"scale\":1, \"width\":0.005, \"zorder\":2}\n",
        "plt.figure(figsize=[6,6])\n",
        "plt.quiver(0,0,*v1,**config, color=\"tab:green\")\n",
        "plt.quiver(0,0,*v2,**config, color=\"tab:blue\")\n",
        "plt.axis(\"equal\"); plt.xlim([-2.5,2.5]); plt.ylim([-2.5,2.5]); plt.grid()\n",
        "plt.show()"
      ]
    }
  ]
}